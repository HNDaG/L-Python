{
 "cells": [
  {
   "cell_type": "markdown",
   "metadata": {},
   "source": [
    "_ _ del _ _"
   ]
  },
  {
   "cell_type": "markdown",
   "metadata": {},
   "source": [
    "called when all references to the object is done"
   ]
  },
  {
   "cell_type": "code",
   "execution_count": 1,
   "metadata": {},
   "outputs": [],
   "source": [
    "import ctypes\n",
    "\n",
    "def ref_count(address):\n",
    "    return ctypes.c_long.from_address(address).value # to count referencec "
   ]
  },
  {
   "cell_type": "code",
   "execution_count": 2,
   "metadata": {},
   "outputs": [],
   "source": [
    "class Person:\n",
    "    def __init__(self, name):\n",
    "        self.name = name\n",
    "\n",
    "    def __repr__(self):\n",
    "        return f\"Person {self.name}\"\n",
    "\n",
    "    def __del__(self):\n",
    "        print(f\"__del__ called from {self}...\")"
   ]
  },
  {
   "cell_type": "code",
   "execution_count": 3,
   "metadata": {},
   "outputs": [],
   "source": [
    "p = Person(\"Alex\")"
   ]
  },
  {
   "cell_type": "code",
   "execution_count": 5,
   "metadata": {},
   "outputs": [
    {
     "data": {
      "text/plain": [
       "1"
      ]
     },
     "execution_count": 5,
     "metadata": {},
     "output_type": "execute_result"
    }
   ],
   "source": [
    "id_p = id(p)\n",
    "ref_count(id_p)"
   ]
  },
  {
   "cell_type": "code",
   "execution_count": 6,
   "metadata": {},
   "outputs": [
    {
     "name": "stdout",
     "output_type": "stream",
     "text": [
      "__del__ called from Person Alex...\n"
     ]
    }
   ],
   "source": [
    "p = None "
   ]
  },
  {
   "cell_type": "code",
   "execution_count": 26,
   "metadata": {},
   "outputs": [],
   "source": [
    "class Person:\n",
    "    def __init__(self, name):\n",
    "        self.name = name\n",
    "\n",
    "    def __repr__(self):\n",
    "        return f\"Person {self.name}\"\n",
    "\n",
    "    def __del__(self):\n",
    "        print(f\"__del__ called from {self}...\")\n",
    "\n",
    "    def gen_ex(self):\n",
    "        raise ValueError(f\"{self.name}  Something gone wrong...\")"
   ]
  },
  {
   "cell_type": "code",
   "execution_count": 32,
   "metadata": {},
   "outputs": [
    {
     "name": "stdout",
     "output_type": "stream",
     "text": [
      "__del__ called from Person Nik...\n"
     ]
    },
    {
     "data": {
      "text/plain": [
       "1"
      ]
     },
     "execution_count": 32,
     "metadata": {},
     "output_type": "execute_result"
    }
   ],
   "source": [
    "p = Person(\"Nik\")\n",
    "p_id = id(p)\n",
    "ref_count(p_id)  # Why does __del__ was called"
   ]
  },
  {
   "cell_type": "code",
   "execution_count": 33,
   "metadata": {},
   "outputs": [
    {
     "name": "stdout",
     "output_type": "stream",
     "text": [
      "NikSomething gone wrong...\n"
     ]
    }
   ],
   "source": [
    "try:\n",
    "    p.gen_ex()\n",
    "except ValueError as ex:\n",
    "    error = ex\n",
    "    print(ex)"
   ]
  },
  {
   "cell_type": "code",
   "execution_count": 34,
   "metadata": {},
   "outputs": [
    {
     "data": {
      "text/plain": [
       "ValueError('NikSomething gone wrong...')"
      ]
     },
     "execution_count": 34,
     "metadata": {},
     "output_type": "execute_result"
    }
   ],
   "source": [
    "error"
   ]
  },
  {
   "cell_type": "code",
   "execution_count": 35,
   "metadata": {},
   "outputs": [
    {
     "data": {
      "text/plain": [
       "2"
      ]
     },
     "execution_count": 35,
     "metadata": {},
     "output_type": "execute_result"
    }
   ],
   "source": [
    "ref_count(p_id)"
   ]
  },
  {
   "cell_type": "code",
   "execution_count": 36,
   "metadata": {},
   "outputs": [
    {
     "data": {
      "text/plain": [
       "ValueError"
      ]
     },
     "execution_count": 36,
     "metadata": {},
     "output_type": "execute_result"
    }
   ],
   "source": [
    "type(error)"
   ]
  },
  {
   "cell_type": "code",
   "execution_count": 37,
   "metadata": {},
   "outputs": [
    {
     "data": {
      "text/plain": [
       "['__cause__',\n",
       " '__class__',\n",
       " '__context__',\n",
       " '__delattr__',\n",
       " '__dict__',\n",
       " '__dir__',\n",
       " '__doc__',\n",
       " '__eq__',\n",
       " '__format__',\n",
       " '__ge__',\n",
       " '__getattribute__',\n",
       " '__gt__',\n",
       " '__hash__',\n",
       " '__init__',\n",
       " '__init_subclass__',\n",
       " '__le__',\n",
       " '__lt__',\n",
       " '__ne__',\n",
       " '__new__',\n",
       " '__reduce__',\n",
       " '__reduce_ex__',\n",
       " '__repr__',\n",
       " '__setattr__',\n",
       " '__setstate__',\n",
       " '__sizeof__',\n",
       " '__str__',\n",
       " '__subclasshook__',\n",
       " '__suppress_context__',\n",
       " '__traceback__',\n",
       " 'args',\n",
       " 'with_traceback']"
      ]
     },
     "execution_count": 37,
     "metadata": {},
     "output_type": "execute_result"
    }
   ],
   "source": [
    "dir(error)"
   ]
  },
  {
   "cell_type": "code",
   "execution_count": 39,
   "metadata": {},
   "outputs": [
    {
     "data": {
      "text/plain": [
       "['tb_frame', 'tb_lasti', 'tb_lineno', 'tb_next']"
      ]
     },
     "execution_count": 39,
     "metadata": {},
     "output_type": "execute_result"
    }
   ],
   "source": [
    "dir(error.__traceback__)"
   ]
  },
  {
   "cell_type": "code",
   "execution_count": 40,
   "metadata": {},
   "outputs": [
    {
     "data": {
      "text/plain": [
       "['__class__',\n",
       " '__delattr__',\n",
       " '__dir__',\n",
       " '__doc__',\n",
       " '__eq__',\n",
       " '__format__',\n",
       " '__ge__',\n",
       " '__getattribute__',\n",
       " '__gt__',\n",
       " '__hash__',\n",
       " '__init__',\n",
       " '__init_subclass__',\n",
       " '__le__',\n",
       " '__lt__',\n",
       " '__ne__',\n",
       " '__new__',\n",
       " '__reduce__',\n",
       " '__reduce_ex__',\n",
       " '__repr__',\n",
       " '__setattr__',\n",
       " '__sizeof__',\n",
       " '__str__',\n",
       " '__subclasshook__',\n",
       " 'clear',\n",
       " 'f_back',\n",
       " 'f_builtins',\n",
       " 'f_code',\n",
       " 'f_globals',\n",
       " 'f_lasti',\n",
       " 'f_lineno',\n",
       " 'f_locals',\n",
       " 'f_trace',\n",
       " 'f_trace_lines',\n",
       " 'f_trace_opcodes']"
      ]
     },
     "execution_count": 40,
     "metadata": {},
     "output_type": "execute_result"
    }
   ],
   "source": [
    "dir(error.__traceback__.tb_frame)"
   ]
  },
  {
   "cell_type": "code",
   "execution_count": 41,
   "metadata": {},
   "outputs": [
    {
     "data": {
      "text/plain": [
       "['__class__',\n",
       " '__class_getitem__',\n",
       " '__contains__',\n",
       " '__delattr__',\n",
       " '__delitem__',\n",
       " '__dir__',\n",
       " '__doc__',\n",
       " '__eq__',\n",
       " '__format__',\n",
       " '__ge__',\n",
       " '__getattribute__',\n",
       " '__getitem__',\n",
       " '__gt__',\n",
       " '__hash__',\n",
       " '__init__',\n",
       " '__init_subclass__',\n",
       " '__ior__',\n",
       " '__iter__',\n",
       " '__le__',\n",
       " '__len__',\n",
       " '__lt__',\n",
       " '__ne__',\n",
       " '__new__',\n",
       " '__or__',\n",
       " '__reduce__',\n",
       " '__reduce_ex__',\n",
       " '__repr__',\n",
       " '__reversed__',\n",
       " '__ror__',\n",
       " '__setattr__',\n",
       " '__setitem__',\n",
       " '__sizeof__',\n",
       " '__str__',\n",
       " '__subclasshook__',\n",
       " 'clear',\n",
       " 'copy',\n",
       " 'fromkeys',\n",
       " 'get',\n",
       " 'items',\n",
       " 'keys',\n",
       " 'pop',\n",
       " 'popitem',\n",
       " 'setdefault',\n",
       " 'update',\n",
       " 'values']"
      ]
     },
     "execution_count": 41,
     "metadata": {},
     "output_type": "execute_result"
    }
   ],
   "source": [
    "dir(error.__traceback__.tb_frame.f_locals)"
   ]
  },
  {
   "cell_type": "code",
   "execution_count": 42,
   "metadata": {},
   "outputs": [
    {
     "data": {
      "text/plain": [
       "dict"
      ]
     },
     "execution_count": 42,
     "metadata": {},
     "output_type": "execute_result"
    }
   ],
   "source": [
    "type(error.__traceback__.tb_frame.f_locals)"
   ]
  },
  {
   "cell_type": "code",
   "execution_count": 46,
   "metadata": {},
   "outputs": [
    {
     "name": "stdout",
     "output_type": "stream",
     "text": [
      "__name__ __main__\n",
      "__doc__ Automatically created module for IPython interactive environment\n",
      "__package__ None\n",
      "__loader__ None\n",
      "__spec__ None\n",
      "__builtin__ <module 'builtins' (built-in)>\n",
      "__builtins__ <module 'builtins' (built-in)>\n",
      "_ih ['', 'import ctypes\\n\\ndef ref_count(address):\\n    return ctypes.c_long.from_address(address).value # to count referencec ', 'class Person:\\n    def __init__(self, name):\\n        self.name = name\\n\\n    def __repr__(self):\\n        return f\"Person {self.name}\"\\n\\n    def __del__(self):\\n        print(f\"__del__ called from {self}...\")', 'p = Person(\"Alex\")', 'id_p = id(p)', 'id_p = id(p)\\nref_count(id_p)', 'p = None ', 'class Person:\\n    def __init__(self, name):\\n        self.name = name\\n\\n    def __repr__(self):\\n        return f\"Person {self.name}\"\\n\\n    def __del__(self):\\n        print(f\"__del__ called from {self}...\")\\n\\n    def gen_ex(self):\\n        raise ValueError(\"Something gone wrong...\")', 'p = Person(\"nik\")\\np_id = id (p)', 'p = Person(\"nik\")\\np_id = id (p)\\nref_count(p_id)', 'p = Person(\"nik\")\\np_id = id (p)\\nref_count(p_id)', 'class Person:\\n    def __init__(self, name):\\n        self.name = name\\n\\n    def __repr__(self):\\n        return f\"Person {self.name}\"\\n\\n    def __del__(self):\\n        print(f\"__del__ called from {self}...\")\\n\\n    def gen_ex(self):\\n        raise ValueError(\"Something gone wrong...\")', 'p = Person(\"nik\")\\np_id = id (p)\\nref_count(p_id)', 'p = Person(\"nik\")\\np_id = id(p)\\nref_count(p_id)', 'class Person:\\n    def __init__(self, name):\\n        self.name = name\\n\\n    def __repr__(self):\\n        return f\"Person {self.name}\"\\n\\n    def __del__(self):\\n        print(f\"__del__ called from {self}...\")\\n\\n    def gen_ex(self):\\n        raise ValueError(\"Something gone wrong...\")', 'p = Person(\"nik\")\\np_id = id(p)\\nref_count(p_id)', 'p = Person(\"nik\")\\np_id = id(p)\\nref_count(p_id)', 'p = Person(\"Nik\")\\np_id = id(p)\\nref_count(p_id)', 'P = Person(\"Nik\")\\np_id = id(p)\\nref_count(p_id)', 'P = Person(\"Nik\")\\np_id = id(P)\\nref_count(p_id)', 'p = Person(\"Nik\")\\np_id = id(p)\\nref_count(p_id)', 'try:\\n    p.gen_ex()\\nexcept ValueError as ex:', 'try:\\n    p.gen_ex()\\nexcept ValueError as ex:\\n    print(ex)', 'class Person:\\n    def __init__(self, name):\\n        self.name = name\\n\\n    def __repr__(self):\\n        return f\"Person {self.name}\"\\n\\n    def __del__(self):\\n        print(f\"__del__ called from {self}...\")\\n\\n    def gen_ex(self):\\n        raise ValueError(\"Something gone wrong...\")', 'p = Person(\"Nik\")\\np_id = id(p)\\nref_count(p_id)', 'try:\\n    p.gen_ex()\\nexcept ValueError as ex:\\n    print(ex)', 'class Person:\\n    def __init__(self, name):\\n        self.name = name\\n\\n    def __repr__(self):\\n        return f\"Person {self.name}\"\\n\\n    def __del__(self):\\n        print(f\"__del__ called from {self}...\")\\n\\n    def gen_ex(self):\\n        raise ValueError(f\"{self.name}Something gone wrong...\")', 'p = Person(\"Nik\")\\np_id = id(p)\\nref_count(p_id)', 'try:\\n    p.gen_ex()\\nexcept ValueError as ex:\\n    print(ex)', 'p = Person(\"Nik\")\\np_id = id(p)\\nref_count(p_id)  # Why does __del__ was called', 'try:\\n    p.gen_ex()\\nexcept ValueError as ex:\\n    print(ex)', 'error', 'p = Person(\"Nik\")\\np_id = id(p)\\nref_count(p_id)  # Why does __del__ was called', 'try:\\n    p.gen_ex()\\nexcept ValueError as ex:\\n    error = ex\\n    print(ex)', 'error', 'ref_count(p_id)', 'type(error)', 'dir(error)', 'der(error.__traceback__)', 'dir(error.__traceback__)', 'dir(error.__traceback__.tb_frame)', 'dir(error.__traceback__.tb_frame.f_locals)', 'type(error.__traceback__.tb_frame.f_locals)', 'for key, value in error.__traceback__.tb_frame.f_locals.items()\\npass', 'for key, value in error.__traceback__.tb_frame.f_locals.items()\\n    pass', 'for key, value in error.__traceback__.tb_frame.f_locals.items():\\n    pass', 'for key, value in error.__traceback__.tb_frame.f_locals.items():\\n    print(key, value)']\n",
      "_oh {5: 1, 9: 1, 10: 1, 12: 1, 13: 1, 15: 1, 16: 1, 17: 1, 18: 1, 19: 1, 20: 1, 24: 1, 27: 1, 29: 1, 32: 1, 34: ValueError('NikSomething gone wrong...'), 35: 2, 36: <class 'ValueError'>, 37: ['__cause__', '__class__', '__context__', '__delattr__', '__dict__', '__dir__', '__doc__', '__eq__', '__format__', '__ge__', '__getattribute__', '__gt__', '__hash__', '__init__', '__init_subclass__', '__le__', '__lt__', '__ne__', '__new__', '__reduce__', '__reduce_ex__', '__repr__', '__setattr__', '__setstate__', '__sizeof__', '__str__', '__subclasshook__', '__suppress_context__', '__traceback__', 'args', 'with_traceback'], 39: ['tb_frame', 'tb_lasti', 'tb_lineno', 'tb_next'], 40: ['__class__', '__delattr__', '__dir__', '__doc__', '__eq__', '__format__', '__ge__', '__getattribute__', '__gt__', '__hash__', '__init__', '__init_subclass__', '__le__', '__lt__', '__ne__', '__new__', '__reduce__', '__reduce_ex__', '__repr__', '__setattr__', '__sizeof__', '__str__', '__subclasshook__', 'clear', 'f_back', 'f_builtins', 'f_code', 'f_globals', 'f_lasti', 'f_lineno', 'f_locals', 'f_trace', 'f_trace_lines', 'f_trace_opcodes'], 41: ['__class__', '__class_getitem__', '__contains__', '__delattr__', '__delitem__', '__dir__', '__doc__', '__eq__', '__format__', '__ge__', '__getattribute__', '__getitem__', '__gt__', '__hash__', '__init__', '__init_subclass__', '__ior__', '__iter__', '__le__', '__len__', '__lt__', '__ne__', '__new__', '__or__', '__reduce__', '__reduce_ex__', '__repr__', '__reversed__', '__ror__', '__setattr__', '__setitem__', '__sizeof__', '__str__', '__subclasshook__', 'clear', 'copy', 'fromkeys', 'get', 'items', 'keys', 'pop', 'popitem', 'setdefault', 'update', 'values'], 42: <class 'dict'>}\n",
      "_dh [WindowsPath('c:/Users/nikit/Desktop/DotPY/Course_Udemy_OOP/4'), WindowsPath('c:/Users/nikit/Desktop/DotPY/Course_Udemy_OOP/4')]\n",
      "In ['', 'import ctypes\\n\\ndef ref_count(address):\\n    return ctypes.c_long.from_address(address).value # to count referencec ', 'class Person:\\n    def __init__(self, name):\\n        self.name = name\\n\\n    def __repr__(self):\\n        return f\"Person {self.name}\"\\n\\n    def __del__(self):\\n        print(f\"__del__ called from {self}...\")', 'p = Person(\"Alex\")', 'id_p = id(p)', 'id_p = id(p)\\nref_count(id_p)', 'p = None ', 'class Person:\\n    def __init__(self, name):\\n        self.name = name\\n\\n    def __repr__(self):\\n        return f\"Person {self.name}\"\\n\\n    def __del__(self):\\n        print(f\"__del__ called from {self}...\")\\n\\n    def gen_ex(self):\\n        raise ValueError(\"Something gone wrong...\")', 'p = Person(\"nik\")\\np_id = id (p)', 'p = Person(\"nik\")\\np_id = id (p)\\nref_count(p_id)', 'p = Person(\"nik\")\\np_id = id (p)\\nref_count(p_id)', 'class Person:\\n    def __init__(self, name):\\n        self.name = name\\n\\n    def __repr__(self):\\n        return f\"Person {self.name}\"\\n\\n    def __del__(self):\\n        print(f\"__del__ called from {self}...\")\\n\\n    def gen_ex(self):\\n        raise ValueError(\"Something gone wrong...\")', 'p = Person(\"nik\")\\np_id = id (p)\\nref_count(p_id)', 'p = Person(\"nik\")\\np_id = id(p)\\nref_count(p_id)', 'class Person:\\n    def __init__(self, name):\\n        self.name = name\\n\\n    def __repr__(self):\\n        return f\"Person {self.name}\"\\n\\n    def __del__(self):\\n        print(f\"__del__ called from {self}...\")\\n\\n    def gen_ex(self):\\n        raise ValueError(\"Something gone wrong...\")', 'p = Person(\"nik\")\\np_id = id(p)\\nref_count(p_id)', 'p = Person(\"nik\")\\np_id = id(p)\\nref_count(p_id)', 'p = Person(\"Nik\")\\np_id = id(p)\\nref_count(p_id)', 'P = Person(\"Nik\")\\np_id = id(p)\\nref_count(p_id)', 'P = Person(\"Nik\")\\np_id = id(P)\\nref_count(p_id)', 'p = Person(\"Nik\")\\np_id = id(p)\\nref_count(p_id)', 'try:\\n    p.gen_ex()\\nexcept ValueError as ex:', 'try:\\n    p.gen_ex()\\nexcept ValueError as ex:\\n    print(ex)', 'class Person:\\n    def __init__(self, name):\\n        self.name = name\\n\\n    def __repr__(self):\\n        return f\"Person {self.name}\"\\n\\n    def __del__(self):\\n        print(f\"__del__ called from {self}...\")\\n\\n    def gen_ex(self):\\n        raise ValueError(\"Something gone wrong...\")', 'p = Person(\"Nik\")\\np_id = id(p)\\nref_count(p_id)', 'try:\\n    p.gen_ex()\\nexcept ValueError as ex:\\n    print(ex)', 'class Person:\\n    def __init__(self, name):\\n        self.name = name\\n\\n    def __repr__(self):\\n        return f\"Person {self.name}\"\\n\\n    def __del__(self):\\n        print(f\"__del__ called from {self}...\")\\n\\n    def gen_ex(self):\\n        raise ValueError(f\"{self.name}Something gone wrong...\")', 'p = Person(\"Nik\")\\np_id = id(p)\\nref_count(p_id)', 'try:\\n    p.gen_ex()\\nexcept ValueError as ex:\\n    print(ex)', 'p = Person(\"Nik\")\\np_id = id(p)\\nref_count(p_id)  # Why does __del__ was called', 'try:\\n    p.gen_ex()\\nexcept ValueError as ex:\\n    print(ex)', 'error', 'p = Person(\"Nik\")\\np_id = id(p)\\nref_count(p_id)  # Why does __del__ was called', 'try:\\n    p.gen_ex()\\nexcept ValueError as ex:\\n    error = ex\\n    print(ex)', 'error', 'ref_count(p_id)', 'type(error)', 'dir(error)', 'der(error.__traceback__)', 'dir(error.__traceback__)', 'dir(error.__traceback__.tb_frame)', 'dir(error.__traceback__.tb_frame.f_locals)', 'type(error.__traceback__.tb_frame.f_locals)', 'for key, value in error.__traceback__.tb_frame.f_locals.items()\\npass', 'for key, value in error.__traceback__.tb_frame.f_locals.items()\\n    pass', 'for key, value in error.__traceback__.tb_frame.f_locals.items():\\n    pass', 'for key, value in error.__traceback__.tb_frame.f_locals.items():\\n    print(key, value)']\n",
      "Out {5: 1, 9: 1, 10: 1, 12: 1, 13: 1, 15: 1, 16: 1, 17: 1, 18: 1, 19: 1, 20: 1, 24: 1, 27: 1, 29: 1, 32: 1, 34: ValueError('NikSomething gone wrong...'), 35: 2, 36: <class 'ValueError'>, 37: ['__cause__', '__class__', '__context__', '__delattr__', '__dict__', '__dir__', '__doc__', '__eq__', '__format__', '__ge__', '__getattribute__', '__gt__', '__hash__', '__init__', '__init_subclass__', '__le__', '__lt__', '__ne__', '__new__', '__reduce__', '__reduce_ex__', '__repr__', '__setattr__', '__setstate__', '__sizeof__', '__str__', '__subclasshook__', '__suppress_context__', '__traceback__', 'args', 'with_traceback'], 39: ['tb_frame', 'tb_lasti', 'tb_lineno', 'tb_next'], 40: ['__class__', '__delattr__', '__dir__', '__doc__', '__eq__', '__format__', '__ge__', '__getattribute__', '__gt__', '__hash__', '__init__', '__init_subclass__', '__le__', '__lt__', '__ne__', '__new__', '__reduce__', '__reduce_ex__', '__repr__', '__setattr__', '__sizeof__', '__str__', '__subclasshook__', 'clear', 'f_back', 'f_builtins', 'f_code', 'f_globals', 'f_lasti', 'f_lineno', 'f_locals', 'f_trace', 'f_trace_lines', 'f_trace_opcodes'], 41: ['__class__', '__class_getitem__', '__contains__', '__delattr__', '__delitem__', '__dir__', '__doc__', '__eq__', '__format__', '__ge__', '__getattribute__', '__getitem__', '__gt__', '__hash__', '__init__', '__init_subclass__', '__ior__', '__iter__', '__le__', '__len__', '__lt__', '__ne__', '__new__', '__or__', '__reduce__', '__reduce_ex__', '__repr__', '__reversed__', '__ror__', '__setattr__', '__setitem__', '__sizeof__', '__str__', '__subclasshook__', 'clear', 'copy', 'fromkeys', 'get', 'items', 'keys', 'pop', 'popitem', 'setdefault', 'update', 'values'], 42: <class 'dict'>}\n",
      "get_ipython <bound method InteractiveShell.get_ipython of <ipykernel.zmqshell.ZMQInteractiveShell object at 0x0000019F39E09FC0>>\n",
      "exit <IPython.core.autocall.ZMQExitAutocall object at 0x0000019F39E08670>\n",
      "quit <IPython.core.autocall.ZMQExitAutocall object at 0x0000019F39E08670>\n",
      "_ <class 'dict'>\n",
      "__ ['__class__', '__class_getitem__', '__contains__', '__delattr__', '__delitem__', '__dir__', '__doc__', '__eq__', '__format__', '__ge__', '__getattribute__', '__getitem__', '__gt__', '__hash__', '__init__', '__init_subclass__', '__ior__', '__iter__', '__le__', '__len__', '__lt__', '__ne__', '__new__', '__or__', '__reduce__', '__reduce_ex__', '__repr__', '__reversed__', '__ror__', '__setattr__', '__setitem__', '__sizeof__', '__str__', '__subclasshook__', 'clear', 'copy', 'fromkeys', 'get', 'items', 'keys', 'pop', 'popitem', 'setdefault', 'update', 'values']\n",
      "___ ['__class__', '__delattr__', '__dir__', '__doc__', '__eq__', '__format__', '__ge__', '__getattribute__', '__gt__', '__hash__', '__init__', '__init_subclass__', '__le__', '__lt__', '__ne__', '__new__', '__reduce__', '__reduce_ex__', '__repr__', '__setattr__', '__sizeof__', '__str__', '__subclasshook__', 'clear', 'f_back', 'f_builtins', 'f_code', 'f_globals', 'f_lasti', 'f_lineno', 'f_locals', 'f_trace', 'f_trace_lines', 'f_trace_opcodes']\n",
      "os <module 'os' from 'c:\\\\Users\\\\nikit\\\\AppData\\\\Local\\\\Programs\\\\Python\\\\Python310\\\\lib\\\\os.py'>\n",
      "sys <module 'sys' (built-in)>\n",
      "__vsc_ipynb_file__ c:\\Users\\nikit\\Desktop\\DotPY\\Course_Udemy_OOP\\4\\4-60c.ipynb\n",
      "_i for key, value in error.__traceback__.tb_frame.f_locals.items():\n",
      "    pass\n",
      "_ii for key, value in error.__traceback__.tb_frame.f_locals.items()\n",
      "    pass\n",
      "_iii for key, value in error.__traceback__.tb_frame.f_locals.items()\n",
      "pass\n",
      "_i1 import ctypes\n",
      "\n",
      "def ref_count(address):\n",
      "    return ctypes.c_long.from_address(address).value # to count referencec \n",
      "ctypes <module 'ctypes' from 'c:\\\\Users\\\\nikit\\\\AppData\\\\Local\\\\Programs\\\\Python\\\\Python310\\\\lib\\\\ctypes\\\\__init__.py'>\n",
      "ref_count <function ref_count at 0x0000019F39EC8E50>\n",
      "_i2 class Person:\n",
      "    def __init__(self, name):\n",
      "        self.name = name\n",
      "\n",
      "    def __repr__(self):\n",
      "        return f\"Person {self.name}\"\n",
      "\n",
      "    def __del__(self):\n",
      "        print(f\"__del__ called from {self}...\")\n",
      "Person <class '__main__.Person'>\n",
      "_i3 p = Person(\"Alex\")\n",
      "p Person Nik\n",
      "_i4 id_p = id(p)\n",
      "id_p 1783383371744\n",
      "_i5 id_p = id(p)\n",
      "ref_count(id_p)\n",
      "_5 1\n",
      "_i6 p = None \n",
      "_i7 class Person:\n",
      "    def __init__(self, name):\n",
      "        self.name = name\n",
      "\n",
      "    def __repr__(self):\n",
      "        return f\"Person {self.name}\"\n",
      "\n",
      "    def __del__(self):\n",
      "        print(f\"__del__ called from {self}...\")\n",
      "\n",
      "    def gen_ex(self):\n",
      "        raise ValueError(\"Something gone wrong...\")\n",
      "_i8 p = Person(\"nik\")\n",
      "p_id = id (p)\n",
      "p_id 1783403172848\n",
      "_i9 p = Person(\"nik\")\n",
      "p_id = id (p)\n",
      "ref_count(p_id)\n",
      "_9 1\n",
      "_i10 p = Person(\"nik\")\n",
      "p_id = id (p)\n",
      "ref_count(p_id)\n",
      "_10 1\n",
      "_i11 class Person:\n",
      "    def __init__(self, name):\n",
      "        self.name = name\n",
      "\n",
      "    def __repr__(self):\n",
      "        return f\"Person {self.name}\"\n",
      "\n",
      "    def __del__(self):\n",
      "        print(f\"__del__ called from {self}...\")\n",
      "\n",
      "    def gen_ex(self):\n",
      "        raise ValueError(\"Something gone wrong...\")\n",
      "_i12 p = Person(\"nik\")\n",
      "p_id = id (p)\n",
      "ref_count(p_id)\n",
      "_12 1\n",
      "_i13 p = Person(\"nik\")\n",
      "p_id = id(p)\n",
      "ref_count(p_id)\n",
      "_13 1\n",
      "_i14 class Person:\n",
      "    def __init__(self, name):\n",
      "        self.name = name\n",
      "\n",
      "    def __repr__(self):\n",
      "        return f\"Person {self.name}\"\n",
      "\n",
      "    def __del__(self):\n",
      "        print(f\"__del__ called from {self}...\")\n",
      "\n",
      "    def gen_ex(self):\n",
      "        raise ValueError(\"Something gone wrong...\")\n",
      "_i15 p = Person(\"nik\")\n",
      "p_id = id(p)\n",
      "ref_count(p_id)\n",
      "_15 1\n",
      "_i16 p = Person(\"nik\")\n",
      "p_id = id(p)\n",
      "ref_count(p_id)\n",
      "_16 1\n",
      "_i17 p = Person(\"Nik\")\n",
      "p_id = id(p)\n",
      "ref_count(p_id)\n",
      "_17 1\n",
      "_i18 P = Person(\"Nik\")\n",
      "p_id = id(p)\n",
      "ref_count(p_id)\n",
      "P Person Nik\n",
      "_18 1\n",
      "_i19 P = Person(\"Nik\")\n",
      "p_id = id(P)\n",
      "ref_count(p_id)\n",
      "_19 1\n",
      "_i20 p = Person(\"Nik\")\n",
      "p_id = id(p)\n",
      "ref_count(p_id)\n",
      "_20 1\n",
      "_i21 try:\n",
      "    p.gen_ex()\n",
      "except ValueError as ex:\n",
      "_i22 try:\n",
      "    p.gen_ex()\n",
      "except ValueError as ex:\n",
      "    print(ex)\n",
      "_i23 class Person:\n",
      "    def __init__(self, name):\n",
      "        self.name = name\n",
      "\n",
      "    def __repr__(self):\n",
      "        return f\"Person {self.name}\"\n",
      "\n",
      "    def __del__(self):\n",
      "        print(f\"__del__ called from {self}...\")\n",
      "\n",
      "    def gen_ex(self):\n",
      "        raise ValueError(\"Something gone wrong...\")\n",
      "_i24 p = Person(\"Nik\")\n",
      "p_id = id(p)\n",
      "ref_count(p_id)\n",
      "_24 1\n",
      "_i25 try:\n",
      "    p.gen_ex()\n",
      "except ValueError as ex:\n",
      "    print(ex)\n",
      "_i26 class Person:\n",
      "    def __init__(self, name):\n",
      "        self.name = name\n",
      "\n",
      "    def __repr__(self):\n",
      "        return f\"Person {self.name}\"\n",
      "\n",
      "    def __del__(self):\n",
      "        print(f\"__del__ called from {self}...\")\n",
      "\n",
      "    def gen_ex(self):\n",
      "        raise ValueError(f\"{self.name}Something gone wrong...\")\n",
      "_i27 p = Person(\"Nik\")\n",
      "p_id = id(p)\n",
      "ref_count(p_id)\n",
      "_27 1\n",
      "_i28 try:\n",
      "    p.gen_ex()\n",
      "except ValueError as ex:\n",
      "    print(ex)\n",
      "_i29 p = Person(\"Nik\")\n",
      "p_id = id(p)\n",
      "ref_count(p_id)  # Why does __del__ was called\n",
      "_29 1\n",
      "_i30 try:\n",
      "    p.gen_ex()\n",
      "except ValueError as ex:\n",
      "    print(ex)\n",
      "_i31 error\n",
      "_i32 p = Person(\"Nik\")\n",
      "p_id = id(p)\n",
      "ref_count(p_id)  # Why does __del__ was called\n",
      "_32 1\n",
      "_i33 try:\n",
      "    p.gen_ex()\n",
      "except ValueError as ex:\n",
      "    error = ex\n",
      "    print(ex)\n",
      "error NikSomething gone wrong...\n",
      "_i34 error\n",
      "_34 NikSomething gone wrong...\n",
      "_i35 ref_count(p_id)\n",
      "_35 2\n",
      "_i36 type(error)\n",
      "_36 <class 'ValueError'>\n",
      "_i37 dir(error)\n",
      "_37 ['__cause__', '__class__', '__context__', '__delattr__', '__dict__', '__dir__', '__doc__', '__eq__', '__format__', '__ge__', '__getattribute__', '__gt__', '__hash__', '__init__', '__init_subclass__', '__le__', '__lt__', '__ne__', '__new__', '__reduce__', '__reduce_ex__', '__repr__', '__setattr__', '__setstate__', '__sizeof__', '__str__', '__subclasshook__', '__suppress_context__', '__traceback__', 'args', 'with_traceback']\n",
      "_i38 der(error.__traceback__)\n",
      "_i39 dir(error.__traceback__)\n",
      "_39 ['tb_frame', 'tb_lasti', 'tb_lineno', 'tb_next']\n",
      "_i40 dir(error.__traceback__.tb_frame)\n",
      "_40 ['__class__', '__delattr__', '__dir__', '__doc__', '__eq__', '__format__', '__ge__', '__getattribute__', '__gt__', '__hash__', '__init__', '__init_subclass__', '__le__', '__lt__', '__ne__', '__new__', '__reduce__', '__reduce_ex__', '__repr__', '__setattr__', '__sizeof__', '__str__', '__subclasshook__', 'clear', 'f_back', 'f_builtins', 'f_code', 'f_globals', 'f_lasti', 'f_lineno', 'f_locals', 'f_trace', 'f_trace_lines', 'f_trace_opcodes']\n",
      "_i41 dir(error.__traceback__.tb_frame.f_locals)\n",
      "_41 ['__class__', '__class_getitem__', '__contains__', '__delattr__', '__delitem__', '__dir__', '__doc__', '__eq__', '__format__', '__ge__', '__getattribute__', '__getitem__', '__gt__', '__hash__', '__init__', '__init_subclass__', '__ior__', '__iter__', '__le__', '__len__', '__lt__', '__ne__', '__new__', '__or__', '__reduce__', '__reduce_ex__', '__repr__', '__reversed__', '__ror__', '__setattr__', '__setitem__', '__sizeof__', '__str__', '__subclasshook__', 'clear', 'copy', 'fromkeys', 'get', 'items', 'keys', 'pop', 'popitem', 'setdefault', 'update', 'values']\n",
      "_i42 type(error.__traceback__.tb_frame.f_locals)\n",
      "_42 <class 'dict'>\n",
      "_i43 for key, value in error.__traceback__.tb_frame.f_locals.items()\n",
      "pass\n",
      "_i44 for key, value in error.__traceback__.tb_frame.f_locals.items()\n",
      "    pass\n",
      "_i45 for key, value in error.__traceback__.tb_frame.f_locals.items():\n",
      "    pass\n",
      "key _i45\n",
      "value _i45\n",
      "_i46 for key, value in error.__traceback__.tb_frame.f_locals.items():\n",
      "    print(key, value)\n"
     ]
    }
   ],
   "source": [
    "for key, value in error.__traceback__.tb_frame.f_locals.items():\n",
    "    print(key, value)"
   ]
  },
  {
   "cell_type": "code",
   "execution_count": 47,
   "metadata": {},
   "outputs": [
    {
     "name": "stdout",
     "output_type": "stream",
     "text": [
      "p Person Nik 1783403172848\n"
     ]
    }
   ],
   "source": [
    "for key, value in error.__traceback__.tb_frame.f_locals.items():\n",
    "    if isinstance(value, Person):\n",
    "        print(key, value, id(value))"
   ]
  },
  {
   "cell_type": "code",
   "execution_count": 48,
   "metadata": {},
   "outputs": [
    {
     "data": {
      "text/plain": [
       "2"
      ]
     },
     "execution_count": 48,
     "metadata": {},
     "output_type": "execute_result"
    }
   ],
   "source": [
    "ref_count(p_id)"
   ]
  },
  {
   "cell_type": "code",
   "execution_count": 49,
   "metadata": {},
   "outputs": [],
   "source": [
    "del p  # and why it is not called (__del__), means enexpected"
   ]
  },
  {
   "cell_type": "code",
   "execution_count": 50,
   "metadata": {},
   "outputs": [],
   "source": [
    "del error"
   ]
  },
  {
   "cell_type": "code",
   "execution_count": 51,
   "metadata": {},
   "outputs": [
    {
     "data": {
      "text/plain": [
       "1"
      ]
     },
     "execution_count": 51,
     "metadata": {},
     "output_type": "execute_result"
    }
   ],
   "source": [
    "ref_count(p_id)"
   ]
  },
  {
   "cell_type": "code",
   "execution_count": 53,
   "metadata": {},
   "outputs": [],
   "source": [
    "class Person:\n",
    "    def __del__(self):\n",
    "        raise ValueError(\"Something went bump...\")"
   ]
  },
  {
   "cell_type": "code",
   "execution_count": 56,
   "metadata": {},
   "outputs": [],
   "source": [
    "p =Person()"
   ]
  },
  {
   "cell_type": "code",
   "execution_count": 57,
   "metadata": {},
   "outputs": [
    {
     "name": "stderr",
     "output_type": "stream",
     "text": [
      "Exception ignored in: <function Person.__del__ at 0x0000019F3B939FC0>\n",
      "Traceback (most recent call last):\n",
      "  File \"C:\\Users\\nikit\\AppData\\Local\\Temp\\ipykernel_4684\\2199438697.py\", line 3, in __del__\n",
      "ValueError: Something went bump...\n"
     ]
    },
    {
     "name": "stdout",
     "output_type": "stream",
     "text": [
      "All good, no exceptiond\n"
     ]
    }
   ],
   "source": [
    "del p  # ignored \n",
    "print(\"All good, no exceptiond\")"
   ]
  },
  {
   "cell_type": "code",
   "execution_count": 58,
   "metadata": {},
   "outputs": [],
   "source": [
    "import sys"
   ]
  },
  {
   "cell_type": "code",
   "execution_count": 59,
   "metadata": {},
   "outputs": [
    {
     "data": {
      "text/plain": [
       "(<ipykernel.iostream.OutStream at 0x19f39e08e20>,\n",
       " <ipykernel.iostream.OutStream at 0x19f39e08df0>)"
      ]
     },
     "execution_count": 59,
     "metadata": {},
     "output_type": "execute_result"
    }
   ],
   "source": [
    "sys.stderr, sys.stdout"
   ]
  },
  {
   "cell_type": "code",
   "execution_count": 60,
   "metadata": {},
   "outputs": [],
   "source": [
    "class ErrToFile:\n",
    "    def __init__(self, fname):\n",
    "        self._fname = fname\n",
    "        self._current_stderr = sys.stderr\n",
    "\n",
    "    def __enter__(self):\n",
    "        self._file = open(self._fname, \"w\")\n",
    "        sys.stderr = self._file\n",
    "\n",
    "    def __exit__(self, exc_type, exc_value, exc_tb):\n",
    "        sys.stderr = self._current_stderr\n",
    "        if self._file:\n",
    "            self._file.close()\n",
    "        return False"
   ]
  },
  {
   "cell_type": "code",
   "execution_count": 61,
   "metadata": {},
   "outputs": [],
   "source": [
    "p = Person()"
   ]
  },
  {
   "cell_type": "code",
   "execution_count": 62,
   "metadata": {},
   "outputs": [
    {
     "name": "stdout",
     "output_type": "stream",
     "text": [
      "100\n",
      "200\n"
     ]
    }
   ],
   "source": [
    "with ErrToFile(\"4-60err.txt\"):\n",
    "    del p \n",
    "    print('100')\n",
    "print(200)"
   ]
  },
  {
   "cell_type": "code",
   "execution_count": 63,
   "metadata": {},
   "outputs": [
    {
     "name": "stdout",
     "output_type": "stream",
     "text": [
      "['Exception ignored in: <function Person.__del__ at 0x0000019F3B939FC0>\\n', 'Traceback (most recent call last):\\n', '  File \"C:\\\\Users\\\\nikit\\\\AppData\\\\Local\\\\Temp\\\\ipykernel_4684\\\\2199438697.py\", line 3, in __del__\\n', 'ValueError: Something went bump...\\n']\n"
     ]
    }
   ],
   "source": [
    "with open(\"4-60err.txt\") as f:\n",
    "    print(f.readlines())"
   ]
  },
  {
   "cell_type": "code",
   "execution_count": null,
   "metadata": {},
   "outputs": [],
   "source": []
  }
 ],
 "metadata": {
  "kernelspec": {
   "display_name": "Python 3.10.5 64-bit",
   "language": "python",
   "name": "python3"
  },
  "language_info": {
   "codemirror_mode": {
    "name": "ipython",
    "version": 3
   },
   "file_extension": ".py",
   "mimetype": "text/x-python",
   "name": "python",
   "nbconvert_exporter": "python",
   "pygments_lexer": "ipython3",
   "version": "3.10.5"
  },
  "orig_nbformat": 4,
  "vscode": {
   "interpreter": {
    "hash": "e7d4d1fdefab968d87dae697830712be305784682ed311731942beb8000e292d"
   }
  }
 },
 "nbformat": 4,
 "nbformat_minor": 2
}
