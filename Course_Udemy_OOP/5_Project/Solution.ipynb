{
 "cells": [
  {
   "cell_type": "code",
   "execution_count": 1,
   "metadata": {},
   "outputs": [],
   "source": [
    "class Mod:\n",
    "    def __init__(self, value, modulus):\n",
    "        if not isinstance(modulus, int):\n",
    "            raise ValueError(\"Modulus must be int\")\n",
    "        if not isinstance(value, int):\n",
    "            raise ValueError(\"Value must be int\")\n",
    "        \n",
    "        if modulus <= 0:\n",
    "            raise ValueError('Modulus must be positive')\n",
    "\n",
    "        self._modulus = modulus\n",
    "        self._value = value % modulus  # store residue as the value\n",
    "\n",
    "    @property\n",
    "    def value(self):\n",
    "        return self._value\n",
    "    \n",
    "    @property\n",
    "    def modulus(self):\n",
    "        return self._modulus\n",
    "\n",
    "    @value.setter\n",
    "    def value(self, value):\n",
    "        if not isinstance(value, int):\n",
    "            raise ValueError(\"Value must be int\")\n",
    "        self._value = value % self._modulus\n",
    "\n",
    "    def __repr__(self):\n",
    "        return f\"Mod(value = {self._value}, modulus = {self._modulus}\"\n",
    "\n",
    "    def __int__(self):\n",
    "        return self._value\n",
    "\n",
    "    def __eq__(self, other):\n",
    "        if isinstance(other, Mod):\n",
    "            if other._modulus == self._modulus:\n",
    "                return self._value == other._value\n",
    "            else:\n",
    "                return NotImplemented\n",
    "        elif isinstance(other, int):\n",
    "            return other % self.modulus == self.value\n",
    "        else:\n",
    "            return NotImplemented\n",
    "\n",
    "    def __hash__(self):\n",
    "        return hash(self._value, self._modulus)\n",
    "\n",
    "    def __neg__(self):\n",
    "        return Mod(-self._value, self._modulus)\n",
    "\n",
    "    def __add__(self, other):\n",
    "        if isinstance(other, Mod) and self.modulus == other.modulus:\n",
    "            return Mod(self.value + other.value, self.modulus)\n",
    "        if isinstance(other, int):\n",
    "            return Mod(self.value + other, self.modulus)\n",
    "        return NotImplemented\n",
    "\n",
    "    def __iadd__(self, other):\n",
    "        if isinstance(other, Mod) and self.modulus == other.modulus:\n",
    "            self.value = (self.value + other.value) % self.modulus\n",
    "            return self\n",
    "        if isinstance(other, int):\n",
    "            self._value = (self.value + other) % self.modulus\n",
    "            return self\n",
    "        return NotImplemented\n",
    "\n",
    "    \n",
    "    def __sub__(self, other):\n",
    "        if isinstance(other, Mod) and self.modulus == other.modulus:\n",
    "            return Mod(self.value - other.value, self.modulus)\n",
    "        if isinstance(other, int):\n",
    "            return Mod(self.value - other, self.modulus)\n",
    "        return NotImplemented\n",
    "\n",
    "    def __isub__(self, other):\n",
    "        if isinstance(other, Mod) and self.modulus == other.modulus:\n",
    "            self.value = (self.value - other.value) % self.modulus\n",
    "            return self\n",
    "        if isinstance(other, int):\n",
    "            self._value = (self.value - other) % self.modulus\n",
    "            return self\n",
    "        return NotImplemented\n",
    "\n",
    "\n",
    "    def __mul__(self, other):\n",
    "        if isinstance(other, Mod) and self.modulus == other.modulus:\n",
    "            return Mod(self.value * other.value, self.modulus)\n",
    "        if isinstance(other, int):\n",
    "            return Mod(self.value * other, self.modulus)\n",
    "        return NotImplemented\n",
    "\n",
    "    def __imul__(self, other):\n",
    "        if isinstance(other, Mod) and self.modulus == other.modulus:\n",
    "            self.value = (self.value * other.value) % self.modulus\n",
    "            return self\n",
    "        if isinstance(other, int):\n",
    "            self._value = (self.value * other) % self.modulus\n",
    "            return self\n",
    "        return NotImplemented\n",
    "\n",
    "    def __pow__(self, other):\n",
    "        if isinstance(other, Mod) and self.modulus == other.modulus:\n",
    "            return Mod(self.value ** other.value, self.modulus)\n",
    "        if isinstance(other, int):\n",
    "            return Mod(self.value ** (other % self.modulus), self.modulus)\n",
    "        return NotImplemented\n",
    "    \n",
    "    def __ipow__(self, other):\n",
    "        if isinstance(other, Mod) and self.modulus == other.modulus:\n",
    "            self.value = (self.value ** other.value) % self.modulus\n",
    "            return self\n",
    "        if isinstance(other, int):\n",
    "            self.value = (self.value ** (other % self.modulus)) % self.modulus\n",
    "            return self\n",
    "        return NotImplemented\n",
    "\n",
    "    def __lt__(self, other):\n",
    "        if isinstance(other, Mod) and self.modulus == other.modulus:\n",
    "            return self.value < other.value\n",
    "        if isinstance(other, int):\n",
    "            return self.value < other % self.modulus\n",
    "        return NotImplemented\n",
    "\n",
    "        \n",
    "    \n",
    "\n",
    "    "
   ]
  },
  {
   "cell_type": "markdown",
   "metadata": {},
   "source": [
    "Tests"
   ]
  },
  {
   "cell_type": "code",
   "execution_count": 2,
   "metadata": {},
   "outputs": [],
   "source": [
    "def _is_compatible(self, other):\n",
    "    return isinstance(other, int) or (isinstance(other, Mod) and self.modulus == other.modulus)"
   ]
  },
  {
   "cell_type": "code",
   "execution_count": 3,
   "metadata": {},
   "outputs": [],
   "source": [
    "def _get_value(self, other):\n",
    "    if isinstance(other, int):\n",
    "        return other % self.modulus  # return the residue\n",
    "    if isinstance(other, Mod) and self.modulus == other.modulues:\n",
    "        return other.value\n",
    "    raise TypeError('Incompatible types.')"
   ]
  },
  {
   "cell_type": "code",
   "execution_count": 4,
   "metadata": {},
   "outputs": [],
   "source": [
    "from functools import total_ordering\n",
    "\n",
    "@total_ordering\n",
    "class Mod:\n",
    "    def __init__(self, value, modulus):\n",
    "        if not isinstance(modulus, int):\n",
    "            raise TypeError('Unsupported type for modulus')\n",
    "        if not isinstance(value, int):\n",
    "            raise TypeError('Unsupported type for value')\n",
    "        if modulus <= 0:\n",
    "            raise ValueError('Modulus must be positive')\n",
    "\n",
    "        self._modulus = modulus\n",
    "        self._value = value % modulus  # store residue as the value\n",
    "        \n",
    "    @property\n",
    "    def modulus(self):\n",
    "        return self._modulus\n",
    "    \n",
    "    @property\n",
    "    def value(self):\n",
    "        return self._value\n",
    "    \n",
    "    @value.setter\n",
    "    def value(self, value):\n",
    "        self._value = value\n",
    "    \n",
    "    def __repr__(self):\n",
    "        return f'Mod({self._value}, {self._modulus})'\n",
    "    \n",
    "    def __int__(self):\n",
    "        # calculates the value (residue)\n",
    "        return self.value\n",
    "\n",
    "    def _get_value(self, other):\n",
    "        if isinstance(other, int):\n",
    "            return other % self.modulus  # return the residue\n",
    "        if isinstance(other, Mod) and self.modulus == other.modulus:\n",
    "            return other.value\n",
    "        raise TypeError('Incompatible types.')\n",
    "    \n",
    "    def __eq__(self, other):\n",
    "        # calculates congruence (same equivalence class)\n",
    "        other_value = self._get_value(other)\n",
    "        return other_value == self.value\n",
    "    \n",
    "    def __hash__(self):\n",
    "        return hash((self.value, self.modulus))\n",
    "    \n",
    "    def __neg__(self):\n",
    "        return Mod(-self.value, self.modulus)\n",
    "    \n",
    "    def __add__(self, other):\n",
    "        other_value = self._get_value(other)\n",
    "        return Mod(self.value + other_value, self.modulus)\n",
    "    \n",
    "    def __iadd__(self, other):\n",
    "        other_value = self._get_value(other)\n",
    "        self.value = (self.value + other_value) % self.modulus\n",
    "        return self\n",
    "    \n",
    "    def __sub__(self, other):\n",
    "        other_value = self._get_value(other)\n",
    "        return Mod(self.value - other_value, self.modulus)\n",
    "    \n",
    "    def __isub__(self, other):\n",
    "        other_value = self._get_value(other)\n",
    "        self.value = (self.value - other_value) % self.modulus\n",
    "        return self\n",
    "    \n",
    "    def __mul__(self, other):\n",
    "        other_value = self._get_value(other)\n",
    "        return Mod(self.value * other_value, self.modulus)\n",
    "    \n",
    "    def __imul__(self, other):\n",
    "        other_value = self._get_value(other)\n",
    "        self.value = (self.value * other_value) % self.modulus\n",
    "        return self\n",
    "    \n",
    "    def __pow__(self, other):\n",
    "        other_value = self._get_value(other)\n",
    "        return Mod(self.value ** other_value, self.modulus)\n",
    "        \n",
    "    def __ipow__(self, other):\n",
    "        other_value = self._get_value(other)\n",
    "        self.value = (self.value ** other_value) % self.modulus\n",
    "        return self\n",
    "    \n",
    "    def __lt__(self, other):\n",
    "        # here, raising a TypeError instead of returning NotImplemented\n",
    "        # would result in Python not trying the reflection - which we DO want\n",
    "        # although since we are using @total_ordering this does not really matter\n",
    "        try:\n",
    "            other_value = self._get_value(other)\n",
    "            return self.value < other_value\n",
    "        except TypeError:\n",
    "            return NotImplemented"
   ]
  },
  {
   "cell_type": "code",
   "execution_count": 5,
   "metadata": {},
   "outputs": [],
   "source": [
    "import operator"
   ]
  },
  {
   "cell_type": "code",
   "execution_count": 6,
   "metadata": {},
   "outputs": [
    {
     "data": {
      "text/plain": [
       "6"
      ]
     },
     "execution_count": 6,
     "metadata": {},
     "output_type": "execute_result"
    }
   ],
   "source": [
    "operator.mul(2, 3)"
   ]
  },
  {
   "cell_type": "code",
   "execution_count": 7,
   "metadata": {},
   "outputs": [
    {
     "data": {
      "text/plain": [
       "5"
      ]
     },
     "execution_count": 7,
     "metadata": {},
     "output_type": "execute_result"
    }
   ],
   "source": [
    "operator.add(2, 3)"
   ]
  },
  {
   "cell_type": "code",
   "execution_count": 8,
   "metadata": {},
   "outputs": [],
   "source": [
    "def _perform_operation(self, other, op, *, in_place=False):\n",
    "    other_value = self._get_value(other)\n",
    "    new_value = op(self.value, other_value)\n",
    "    if in_place:\n",
    "        self.value = new_value % self.modulus\n",
    "        return self\n",
    "    else:\n",
    "        return Mod(new_value, self.modulus)"
   ]
  },
  {
   "cell_type": "code",
   "execution_count": 9,
   "metadata": {},
   "outputs": [],
   "source": [
    "from functools import total_ordering\n",
    "\n",
    "@total_ordering\n",
    "class Mod:\n",
    "    def __init__(self, value, modulus):\n",
    "        if not isinstance(modulus, int):\n",
    "            raise TypeError('Unsupported type for modulus')\n",
    "        if not isinstance(value, int):\n",
    "            raise TypeError('Unsupported type for value')\n",
    "        if modulus <= 0:\n",
    "            raise ValueError('Modulus must be positive')\n",
    "\n",
    "        self._modulus = modulus\n",
    "        self._value = value % modulus  # store residue as the value\n",
    "        \n",
    "    @property\n",
    "    def modulus(self):\n",
    "        return self._modulus\n",
    "    \n",
    "    @property\n",
    "    def value(self):\n",
    "        return self._value\n",
    "    \n",
    "    @value.setter\n",
    "    def value(self, value):\n",
    "        self._value = value\n",
    "    \n",
    "    def __repr__(self):\n",
    "        return f'Mod({self._value}, {self._modulus})'\n",
    "    \n",
    "    def __int__(self):\n",
    "        # calculates the value (residue)\n",
    "        return self.value\n",
    "\n",
    "    def _get_value(self, other):\n",
    "        if isinstance(other, int):\n",
    "            return other % self.modulus  # return the residue\n",
    "        if isinstance(other, Mod) and self.modulus == other.modulus:\n",
    "            return other.value\n",
    "        raise TypeError('Incompatible types.')\n",
    "    \n",
    "    def _perform_operation(self, other, op, *, in_place=False):\n",
    "        other_value = self._get_value(other)\n",
    "        new_value = op(self.value, other_value)\n",
    "        if in_place:\n",
    "            self.value = new_value % self.modulus\n",
    "            return self\n",
    "        else:\n",
    "            return Mod(new_value, self.modulus)\n",
    "    \n",
    "    def __eq__(self, other):\n",
    "        # calculates congruence (same equivalence class)\n",
    "        other_value = self._get_value(other)\n",
    "        return other_value == self.value\n",
    "    \n",
    "    def __hash__(self):\n",
    "        return hash((self.value, self.modulus))\n",
    "    \n",
    "    def __neg__(self):\n",
    "        return Mod(-self.value, self.modulus)\n",
    "    \n",
    "    def __add__(self, other):\n",
    "        return self._perform_operation(other, operator.add)\n",
    "    \n",
    "    def __iadd__(self, other):\n",
    "        return self._perform_operation(other, operator.add, in_place=True)\n",
    "    \n",
    "    def __sub__(self, other):\n",
    "        return self._perform_operation(other, operator.sub)\n",
    "    \n",
    "    def __isub__(self, other):\n",
    "        return self._perform_operation(other, operator.sub, in_place=True)\n",
    "    \n",
    "    def __mul__(self, other):\n",
    "        return self._perform_operation(other, operator.mul)\n",
    "    \n",
    "    def __imul__(self, other):\n",
    "        return self._perform_operation(other, operator.mul, in_place=True)\n",
    "    \n",
    "    def __pow__(self, other):\n",
    "        return self._perform_operation(other, operator.pow)\n",
    "        \n",
    "    def __ipow__(self, other):\n",
    "        return self._perform_operation(other, operator.pow, in_place=True)\n",
    "    \n",
    "    def __lt__(self, other):\n",
    "        # here, raising a TypeError instead of returning NotImplemented\n",
    "        # would result in Python not trying the reflection - which we DO want\n",
    "        # although since we are using @total_ordering this does not really matter\n",
    "        try:\n",
    "            other_value = self._get_value(other)\n",
    "            return self.value < other_value\n",
    "        except TypeError:\n",
    "            return NotImplemented"
   ]
  },
  {
   "cell_type": "code",
   "execution_count": 11,
   "metadata": {},
   "outputs": [],
   "source": [
    "M1 = Mod(17, 5)"
   ]
  },
  {
   "cell_type": "code",
   "execution_count": 12,
   "metadata": {},
   "outputs": [
    {
     "data": {
      "text/plain": [
       "Mod(2, 5)"
      ]
     },
     "execution_count": 12,
     "metadata": {},
     "output_type": "execute_result"
    }
   ],
   "source": [
    "M1"
   ]
  },
  {
   "cell_type": "code",
   "execution_count": 13,
   "metadata": {},
   "outputs": [],
   "source": [
    "import unittest"
   ]
  },
  {
   "cell_type": "code",
   "execution_count": 14,
   "metadata": {},
   "outputs": [],
   "source": [
    "def run_tests(test_class):\n",
    "    suite = unittest.TestLoader().loadTestsFromTestCase(test_class)\n",
    "    runner = unittest.TextTestRunner(verbosity=2)\n",
    "    runner.run(suite)"
   ]
  },
  {
   "cell_type": "code",
   "execution_count": 34,
   "metadata": {},
   "outputs": [],
   "source": [
    "class TestMod(unittest.TestCase):\n",
    "    def setUp(self):\n",
    "        print('Running setup...')\n",
    "        \n",
    "    def tearDown(self):\n",
    "        print('Running tear down...')\n",
    "        \n",
    "    def test_init(self):\n",
    "        for x in range(0, 10, 1):\n",
    "            for y in range(1, 10, 1):\n",
    "                M = Mod(x, y)\n",
    "                self.assertEqual(M.value, x%y)\n",
    "                self.assertEqual(M.modulus, y)\n",
    "\n",
    "        for x in range(-10, -1, 1):\n",
    "            for y in range(-10, -1, 1):\n",
    "                with self.assertRaises(ValueError):\n",
    "                    M = Mod(x, y)\n",
    "\n",
    "        \n",
    "    \n",
    "        "
   ]
  },
  {
   "cell_type": "code",
   "execution_count": 35,
   "metadata": {},
   "outputs": [
    {
     "name": "stderr",
     "output_type": "stream",
     "text": [
      "test_init (__main__.TestMod) ... ok\n",
      "\n",
      "----------------------------------------------------------------------\n",
      "Ran 1 test in 0.004s\n",
      "\n",
      "OK\n"
     ]
    },
    {
     "name": "stdout",
     "output_type": "stream",
     "text": [
      "Running setup...\n",
      "Running tear down...\n"
     ]
    }
   ],
   "source": [
    "run_tests(TestMod)"
   ]
  },
  {
   "cell_type": "code",
   "execution_count": null,
   "metadata": {},
   "outputs": [],
   "source": []
  },
  {
   "cell_type": "code",
   "execution_count": null,
   "metadata": {},
   "outputs": [],
   "source": []
  }
 ],
 "metadata": {
  "kernelspec": {
   "display_name": "Python 3.10.5 64-bit",
   "language": "python",
   "name": "python3"
  },
  "language_info": {
   "codemirror_mode": {
    "name": "ipython",
    "version": 3
   },
   "file_extension": ".py",
   "mimetype": "text/x-python",
   "name": "python",
   "nbconvert_exporter": "python",
   "pygments_lexer": "ipython3",
   "version": "3.10.5"
  },
  "orig_nbformat": 4,
  "vscode": {
   "interpreter": {
    "hash": "e7d4d1fdefab968d87dae697830712be305784682ed311731942beb8000e292d"
   }
  }
 },
 "nbformat": 4,
 "nbformat_minor": 2
}
