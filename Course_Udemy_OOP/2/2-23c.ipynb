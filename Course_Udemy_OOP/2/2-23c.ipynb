{
 "cells": [
  {
   "cell_type": "markdown",
   "metadata": {},
   "source": [
    "Property decorators"
   ]
  },
  {
   "cell_type": "code",
   "execution_count": 1,
   "metadata": {},
   "outputs": [],
   "source": [
    "p = property(lambda self: print(\"gettying property\"))"
   ]
  },
  {
   "cell_type": "code",
   "execution_count": 2,
   "metadata": {},
   "outputs": [
    {
     "data": {
      "text/plain": [
       "<property at 0x1c343c84c20>"
      ]
     },
     "execution_count": 2,
     "metadata": {},
     "output_type": "execute_result"
    }
   ],
   "source": [
    "p\n"
   ]
  },
  {
   "cell_type": "code",
   "execution_count": 3,
   "metadata": {},
   "outputs": [
    {
     "data": {
      "text/plain": [
       "mappingproxy({'__new__': <function property.__new__(*args, **kwargs)>,\n",
       "              '__getattribute__': <slot wrapper '__getattribute__' of 'property' objects>,\n",
       "              '__get__': <slot wrapper '__get__' of 'property' objects>,\n",
       "              '__set__': <slot wrapper '__set__' of 'property' objects>,\n",
       "              '__delete__': <slot wrapper '__delete__' of 'property' objects>,\n",
       "              '__init__': <slot wrapper '__init__' of 'property' objects>,\n",
       "              'getter': <method 'getter' of 'property' objects>,\n",
       "              'setter': <method 'setter' of 'property' objects>,\n",
       "              'deleter': <method 'deleter' of 'property' objects>,\n",
       "              '__set_name__': <method '__set_name__' of 'property' objects>,\n",
       "              'fget': <member 'fget' of 'property' objects>,\n",
       "              'fset': <member 'fset' of 'property' objects>,\n",
       "              'fdel': <member 'fdel' of 'property' objects>,\n",
       "              '__doc__': <member '__doc__' of 'property' objects>,\n",
       "              '__isabstractmethod__': <attribute '__isabstractmethod__' of 'property' objects>})"
      ]
     },
     "execution_count": 3,
     "metadata": {},
     "output_type": "execute_result"
    }
   ],
   "source": [
    "property.__dict__"
   ]
  },
  {
   "cell_type": "code",
   "execution_count": 4,
   "metadata": {},
   "outputs": [
    {
     "data": {
      "text/plain": [
       "<function __main__.<lambda>(self)>"
      ]
     },
     "execution_count": 4,
     "metadata": {},
     "output_type": "execute_result"
    }
   ],
   "source": [
    "p.fget"
   ]
  },
  {
   "cell_type": "code",
   "execution_count": 6,
   "metadata": {},
   "outputs": [],
   "source": [
    "def my_dec(fn):\n",
    "    print(\"dec func\")\n",
    "    def inner(*args, **kwargs):\n",
    "        print(\"running dec func\")\n",
    "        return fn(*args, **kwargs)\n",
    "    return inner"
   ]
  },
  {
   "cell_type": "code",
   "execution_count": 7,
   "metadata": {},
   "outputs": [],
   "source": [
    "def undecorated_f(a, b):\n",
    "    print(\"Undec func\")\n",
    "    return a+b\n"
   ]
  },
  {
   "cell_type": "code",
   "execution_count": 8,
   "metadata": {},
   "outputs": [
    {
     "name": "stdout",
     "output_type": "stream",
     "text": [
      "Undec func\n"
     ]
    },
    {
     "data": {
      "text/plain": [
       "6"
      ]
     },
     "execution_count": 8,
     "metadata": {},
     "output_type": "execute_result"
    }
   ],
   "source": [
    "undecorated_f(1, 5)"
   ]
  },
  {
   "cell_type": "code",
   "execution_count": 9,
   "metadata": {},
   "outputs": [
    {
     "name": "stdout",
     "output_type": "stream",
     "text": [
      "dec func\n"
     ]
    }
   ],
   "source": [
    "decorated_f = my_dec(undecorated_f)"
   ]
  },
  {
   "cell_type": "code",
   "execution_count": 10,
   "metadata": {},
   "outputs": [
    {
     "data": {
      "text/plain": [
       "<function __main__.my_dec.<locals>.inner(*args, **kwargs)>"
      ]
     },
     "execution_count": 10,
     "metadata": {},
     "output_type": "execute_result"
    }
   ],
   "source": [
    "decorated_f"
   ]
  },
  {
   "cell_type": "code",
   "execution_count": 11,
   "metadata": {},
   "outputs": [
    {
     "name": "stdout",
     "output_type": "stream",
     "text": [
      "running dec func\n",
      "Undec func\n"
     ]
    },
    {
     "data": {
      "text/plain": [
       "4"
      ]
     },
     "execution_count": 11,
     "metadata": {},
     "output_type": "execute_result"
    }
   ],
   "source": [
    "decorated_f(1, 3)"
   ]
  },
  {
   "cell_type": "code",
   "execution_count": 12,
   "metadata": {},
   "outputs": [
    {
     "name": "stdout",
     "output_type": "stream",
     "text": [
      "dec func\n"
     ]
    }
   ],
   "source": [
    "@my_dec\n",
    "def my_func(a, b):\n",
    "    print(\"Undec func\")\n",
    "    return a+b\n"
   ]
  },
  {
   "cell_type": "code",
   "execution_count": 13,
   "metadata": {},
   "outputs": [
    {
     "name": "stdout",
     "output_type": "stream",
     "text": [
      "running dec func\n",
      "Undec func\n"
     ]
    },
    {
     "data": {
      "text/plain": [
       "7"
      ]
     },
     "execution_count": 13,
     "metadata": {},
     "output_type": "execute_result"
    }
   ],
   "source": [
    "my_func(3, 4)"
   ]
  },
  {
   "cell_type": "code",
   "execution_count": 16,
   "metadata": {},
   "outputs": [],
   "source": [
    "from unicodedata import name\n",
    "\n",
    "\n",
    "class Person:\n",
    "    def __init__(self, name):\n",
    "        self._name=name\n",
    "\n",
    "    @property\n",
    "    def name(self):\n",
    "        print(\"p getter\")\n",
    "        return self._name\n",
    "\n"
   ]
  },
  {
   "cell_type": "code",
   "execution_count": 18,
   "metadata": {},
   "outputs": [],
   "source": [
    "p =Person(\"alex\")"
   ]
  },
  {
   "cell_type": "code",
   "execution_count": 19,
   "metadata": {},
   "outputs": [
    {
     "name": "stdout",
     "output_type": "stream",
     "text": [
      "p getter\n"
     ]
    },
    {
     "data": {
      "text/plain": [
       "'alex'"
      ]
     },
     "execution_count": 19,
     "metadata": {},
     "output_type": "execute_result"
    }
   ],
   "source": [
    "p.name"
   ]
  },
  {
   "cell_type": "code",
   "execution_count": 20,
   "metadata": {},
   "outputs": [
    {
     "data": {
      "text/plain": [
       "mappingproxy({'__new__': <function property.__new__(*args, **kwargs)>,\n",
       "              '__getattribute__': <slot wrapper '__getattribute__' of 'property' objects>,\n",
       "              '__get__': <slot wrapper '__get__' of 'property' objects>,\n",
       "              '__set__': <slot wrapper '__set__' of 'property' objects>,\n",
       "              '__delete__': <slot wrapper '__delete__' of 'property' objects>,\n",
       "              '__init__': <slot wrapper '__init__' of 'property' objects>,\n",
       "              'getter': <method 'getter' of 'property' objects>,\n",
       "              'setter': <method 'setter' of 'property' objects>,\n",
       "              'deleter': <method 'deleter' of 'property' objects>,\n",
       "              '__set_name__': <method '__set_name__' of 'property' objects>,\n",
       "              'fget': <member 'fget' of 'property' objects>,\n",
       "              'fset': <member 'fset' of 'property' objects>,\n",
       "              'fdel': <member 'fdel' of 'property' objects>,\n",
       "              '__doc__': <member '__doc__' of 'property' objects>,\n",
       "              '__isabstractmethod__': <attribute '__isabstractmethod__' of 'property' objects>})"
      ]
     },
     "execution_count": 20,
     "metadata": {},
     "output_type": "execute_result"
    }
   ],
   "source": [
    "property.__dict__"
   ]
  },
  {
   "cell_type": "code",
   "execution_count": 34,
   "metadata": {},
   "outputs": [],
   "source": [
    "def get_prop(self):\n",
    "    print( f'getter call')\n",
    "\n",
    "def set_prop(self, value):\n",
    "    print( f'setter call')\n",
    "\n",
    "def del_prop(self):\n",
    "    print( f'del call')"
   ]
  },
  {
   "cell_type": "code",
   "execution_count": 35,
   "metadata": {},
   "outputs": [],
   "source": [
    "p = property(get_prop)"
   ]
  },
  {
   "cell_type": "code",
   "execution_count": 36,
   "metadata": {},
   "outputs": [
    {
     "data": {
      "text/plain": [
       "<function __main__.get_prop(self)>"
      ]
     },
     "execution_count": 36,
     "metadata": {},
     "output_type": "execute_result"
    }
   ],
   "source": [
    "p.fget"
   ]
  },
  {
   "cell_type": "code",
   "execution_count": 37,
   "metadata": {},
   "outputs": [
    {
     "data": {
      "text/plain": [
       "['__class__',\n",
       " '__delattr__',\n",
       " '__delete__',\n",
       " '__dir__',\n",
       " '__doc__',\n",
       " '__eq__',\n",
       " '__format__',\n",
       " '__ge__',\n",
       " '__get__',\n",
       " '__getattribute__',\n",
       " '__gt__',\n",
       " '__hash__',\n",
       " '__init__',\n",
       " '__init_subclass__',\n",
       " '__isabstractmethod__',\n",
       " '__le__',\n",
       " '__lt__',\n",
       " '__ne__',\n",
       " '__new__',\n",
       " '__reduce__',\n",
       " '__reduce_ex__',\n",
       " '__repr__',\n",
       " '__set__',\n",
       " '__set_name__',\n",
       " '__setattr__',\n",
       " '__sizeof__',\n",
       " '__str__',\n",
       " '__subclasshook__',\n",
       " 'deleter',\n",
       " 'fdel',\n",
       " 'fget',\n",
       " 'fset',\n",
       " 'getter',\n",
       " 'setter']"
      ]
     },
     "execution_count": 37,
     "metadata": {},
     "output_type": "execute_result"
    }
   ],
   "source": [
    "dir(p)"
   ]
  },
  {
   "cell_type": "code",
   "execution_count": 38,
   "metadata": {},
   "outputs": [],
   "source": [
    "p1 = p.setter(set_prop)"
   ]
  },
  {
   "cell_type": "code",
   "execution_count": 39,
   "metadata": {},
   "outputs": [
    {
     "data": {
      "text/plain": [
       "False"
      ]
     },
     "execution_count": 39,
     "metadata": {},
     "output_type": "execute_result"
    }
   ],
   "source": [
    "p is p1"
   ]
  },
  {
   "cell_type": "code",
   "execution_count": 40,
   "metadata": {},
   "outputs": [
    {
     "data": {
      "text/plain": [
       "(<function __main__.get_prop(self)>, <function __main__.get_prop(self)>)"
      ]
     },
     "execution_count": 40,
     "metadata": {},
     "output_type": "execute_result"
    }
   ],
   "source": [
    "p.fget, p1.fget"
   ]
  },
  {
   "cell_type": "code",
   "execution_count": 50,
   "metadata": {},
   "outputs": [],
   "source": [
    "p = property(get_prop)\n",
    "p =p.setter(set_prop)\n",
    "p = p.deleter(del_prop)"
   ]
  },
  {
   "cell_type": "code",
   "execution_count": 51,
   "metadata": {},
   "outputs": [],
   "source": [
    "class Person:\n",
    "    name = p"
   ]
  },
  {
   "cell_type": "code",
   "execution_count": 52,
   "metadata": {},
   "outputs": [],
   "source": [
    "person = Person()"
   ]
  },
  {
   "cell_type": "code",
   "execution_count": 53,
   "metadata": {},
   "outputs": [
    {
     "name": "stdout",
     "output_type": "stream",
     "text": [
      "getter call\n"
     ]
    }
   ],
   "source": [
    "person.name"
   ]
  },
  {
   "cell_type": "code",
   "execution_count": 54,
   "metadata": {},
   "outputs": [
    {
     "name": "stdout",
     "output_type": "stream",
     "text": [
      "setter call\n"
     ]
    }
   ],
   "source": [
    "person.name = \"hello\""
   ]
  },
  {
   "cell_type": "code",
   "execution_count": 55,
   "metadata": {},
   "outputs": [
    {
     "name": "stdout",
     "output_type": "stream",
     "text": [
      "del call\n"
     ]
    }
   ],
   "source": [
    "del person.name"
   ]
  },
  {
   "cell_type": "code",
   "execution_count": 56,
   "metadata": {},
   "outputs": [],
   "source": [
    "def name(self):\n",
    "    print(\"getter..\")"
   ]
  },
  {
   "cell_type": "code",
   "execution_count": 57,
   "metadata": {},
   "outputs": [
    {
     "data": {
      "text/plain": [
       "'0x1c3456b7370'"
      ]
     },
     "execution_count": 57,
     "metadata": {},
     "output_type": "execute_result"
    }
   ],
   "source": [
    "hex(id(name))"
   ]
  },
  {
   "cell_type": "code",
   "execution_count": 58,
   "metadata": {},
   "outputs": [],
   "source": [
    "name_temp = name"
   ]
  },
  {
   "cell_type": "code",
   "execution_count": 66,
   "metadata": {},
   "outputs": [],
   "source": [
    "def name(self, value):\n",
    "    print(\"setter..\")"
   ]
  },
  {
   "cell_type": "code",
   "execution_count": 67,
   "metadata": {},
   "outputs": [
    {
     "data": {
      "text/plain": [
       "(function, '0x1c343cfc0d0')"
      ]
     },
     "execution_count": 67,
     "metadata": {},
     "output_type": "execute_result"
    }
   ],
   "source": [
    "type(name), hex(id(name))"
   ]
  },
  {
   "cell_type": "code",
   "execution_count": 68,
   "metadata": {},
   "outputs": [],
   "source": [
    "name_temp = name"
   ]
  },
  {
   "cell_type": "code",
   "execution_count": 69,
   "metadata": {},
   "outputs": [
    {
     "ename": "AttributeError",
     "evalue": "'function' object has no attribute 'setter'",
     "output_type": "error",
     "traceback": [
      "\u001b[1;31m---------------------------------------------------------------------------\u001b[0m",
      "\u001b[1;31mAttributeError\u001b[0m                            Traceback (most recent call last)",
      "Cell \u001b[1;32mIn [69], line 1\u001b[0m\n\u001b[1;32m----> 1\u001b[0m name \u001b[38;5;241m=\u001b[39m \u001b[43mname_temp\u001b[49m\u001b[38;5;241;43m.\u001b[39;49m\u001b[43msetter\u001b[49m(name)\n",
      "\u001b[1;31mAttributeError\u001b[0m: 'function' object has no attribute 'setter'"
     ]
    }
   ],
   "source": [
    "name = name_temp.setter(name)\n"
   ]
  },
  {
   "cell_type": "code",
   "execution_count": null,
   "metadata": {},
   "outputs": [],
   "source": []
  }
 ],
 "metadata": {
  "kernelspec": {
   "display_name": "Python 3.10.5 64-bit",
   "language": "python",
   "name": "python3"
  },
  "language_info": {
   "codemirror_mode": {
    "name": "ipython",
    "version": 3
   },
   "file_extension": ".py",
   "mimetype": "text/x-python",
   "name": "python",
   "nbconvert_exporter": "python",
   "pygments_lexer": "ipython3",
   "version": "3.10.5"
  },
  "orig_nbformat": 4,
  "vscode": {
   "interpreter": {
    "hash": "e7d4d1fdefab968d87dae697830712be305784682ed311731942beb8000e292d"
   }
  }
 },
 "nbformat": 4,
 "nbformat_minor": 2
}
