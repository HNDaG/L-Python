{
 "cells": [
  {
   "cell_type": "code",
   "execution_count": 1,
   "metadata": {},
   "outputs": [],
   "source": [
    "import enum\n",
    "from enum import Enum, unique"
   ]
  },
  {
   "cell_type": "code",
   "execution_count": 2,
   "metadata": {},
   "outputs": [],
   "source": [
    "class GenericException(Exception):\n",
    "    pass\n",
    "\n",
    "class Timeout(Exception):\n",
    "    pass"
   ]
  },
  {
   "cell_type": "code",
   "execution_count": 3,
   "metadata": {},
   "outputs": [],
   "source": [
    "@unique\n",
    "class AppException(Enum):\n",
    "    Generic = 100, GenericException, 'Application.exception'\n",
    "    Timeout = 101, Timeout, 'Timeout connection to resource'\n",
    "    NotAnInteger = 200, ValueError, 'Value must be an integer'\n",
    "    NotAList = 201, ValueError, 'Value must be a list'\n",
    "\n",
    "    def __new__(cls, ex_code, ex_class, ex_message):\n",
    "        member = object.__new__(cls)\n",
    "\n",
    "        member._value_ = ex_code\n",
    "        member.exception = ex_class\n",
    "        member.message = ex_message\n",
    "        return member"
   ]
  },
  {
   "cell_type": "code",
   "execution_count": 4,
   "metadata": {},
   "outputs": [
    {
     "data": {
      "text/plain": [
       "(101, 'Timeout connection to resource', __main__.Timeout)"
      ]
     },
     "execution_count": 4,
     "metadata": {},
     "output_type": "execute_result"
    }
   ],
   "source": [
    "AppException.Timeout.value, AppException.Timeout.message, AppException.Timeout.exception"
   ]
  },
  {
   "cell_type": "code",
   "execution_count": 5,
   "metadata": {},
   "outputs": [
    {
     "name": "stdout",
     "output_type": "stream",
     "text": [
      "101 - Timeout connection to resource\n"
     ]
    }
   ],
   "source": [
    "try:\n",
    "    raise AppException.Timeout.exception(f'{AppException.Timeout.value} - {AppException.Timeout.message}')\n",
    "except Timeout as ex:\n",
    "    print(ex) "
   ]
  },
  {
   "cell_type": "code",
   "execution_count": 6,
   "metadata": {},
   "outputs": [
    {
     "data": {
      "text/plain": [
       "<AppException.Timeout: 101>"
      ]
     },
     "execution_count": 6,
     "metadata": {},
     "output_type": "execute_result"
    }
   ],
   "source": [
    "AppException(101)"
   ]
  },
  {
   "cell_type": "code",
   "execution_count": 7,
   "metadata": {},
   "outputs": [],
   "source": [
    "@unique\n",
    "class AppException(Enum):\n",
    "    Generic = 100, GenericException, 'Application.exception'\n",
    "    Timeout = 101, Timeout, 'Timeout connection to resource'\n",
    "    NotAnInteger = 200, ValueError, 'Value must be an integer'\n",
    "    NotAList = 201, ValueError, 'Value must be a list'\n",
    "\n",
    "    def __new__(cls, ex_code, ex_class, ex_message):\n",
    "        member = object.__new__(cls)\n",
    "\n",
    "        member._value_ = ex_code\n",
    "        member.exceptioncls = ex_class\n",
    "        member.message = ex_message\n",
    "        return member\n",
    "\n",
    "    @property\n",
    "    def code(self):\n",
    "        return self.code\n",
    "\n",
    "    def throw(self, message=None):\n",
    "        message = message or self.message\n",
    "        raise self.exceptioncls(f'{self.code} - {self.message}')"
   ]
  },
  {
   "cell_type": "code",
   "execution_count": null,
   "metadata": {},
   "outputs": [
    {
     "ename": "",
     "evalue": "",
     "output_type": "error",
     "traceback": [
      "\u001b[1;31mCanceled future for execute_request message before replies were done"
     ]
    },
    {
     "ename": "",
     "evalue": "",
     "output_type": "error",
     "traceback": [
      "\u001b[1;31mThe Kernel crashed while executing code in the the current cell or a previous cell. Please review the code in the cell(s) to identify a possible cause of the failure. Click <a href='https://aka.ms/vscodeJupyterKernelCrash'>here</a> for more info. View Jupyter <a href='command:jupyter.viewOutput'>log</a> for further details."
     ]
    }
   ],
   "source": [
    "try:\n",
    "    AppException.NotAnInteger.throw(\"None\")\n",
    "except Exception as ex:\n",
    "    print(ex)"
   ]
  },
  {
   "cell_type": "code",
   "execution_count": 7,
   "metadata": {},
   "outputs": [
    {
     "data": {
      "text/plain": [
       "<AppException.Timeout: 101>"
      ]
     },
     "execution_count": 7,
     "metadata": {},
     "output_type": "execute_result"
    }
   ],
   "source": [
    "AppException(101)"
   ]
  },
  {
   "cell_type": "code",
   "execution_count": null,
   "metadata": {},
   "outputs": [],
   "source": []
  }
 ],
 "metadata": {
  "kernelspec": {
   "display_name": "Python 3.10.5 64-bit",
   "language": "python",
   "name": "python3"
  },
  "language_info": {
   "codemirror_mode": {
    "name": "ipython",
    "version": 3
   },
   "file_extension": ".py",
   "mimetype": "text/x-python",
   "name": "python",
   "nbconvert_exporter": "python",
   "pygments_lexer": "ipython3",
   "version": "3.10.5"
  },
  "orig_nbformat": 4,
  "vscode": {
   "interpreter": {
    "hash": "e7d4d1fdefab968d87dae697830712be305784682ed311731942beb8000e292d"
   }
  }
 },
 "nbformat": 4,
 "nbformat_minor": 2
}
