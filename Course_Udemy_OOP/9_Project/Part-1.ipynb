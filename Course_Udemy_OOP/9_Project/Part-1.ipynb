{
 "cells": [
  {
   "cell_type": "code",
   "execution_count": 16,
   "metadata": {},
   "outputs": [],
   "source": [
    "import numbers\n",
    "\n",
    "class IntegerField:\n",
    "    def __init__(self, min_, max_):\n",
    "        self._min = min_\n",
    "        self._max = max_\n",
    "\n",
    "    def __set_name__(self, owner_class, prop_name):\n",
    "        self.prop_name = prop_name\n",
    "    \n",
    "    def __set__(self, instance, value):\n",
    "        if not isinstance(value, numbers.Integral):\n",
    "            raise ValueError(f'{self.prop_name} must be an integer value.')\n",
    "        if value < self._min:\n",
    "            raise ValueError(f'{self.prop_name} must be >= {self._min}')\n",
    "        if value > self._max:\n",
    "            raise ValueError(f'{self.prop_name} must be <= {self._max}')\n",
    "        instance.__dict__[self.prop_name] = value\n",
    "\n",
    "    def __get__(self, instance, owner_class):\n",
    "        if instance is None:\n",
    "            return self\n",
    "        return instance.__dict__.get(self.prop_name, None)"
   ]
  },
  {
   "cell_type": "code",
   "execution_count": 17,
   "metadata": {},
   "outputs": [],
   "source": [
    "class Person:\n",
    "    age = IntegerField(0, 100)"
   ]
  },
  {
   "cell_type": "code",
   "execution_count": 18,
   "metadata": {},
   "outputs": [],
   "source": [
    "p = Person()"
   ]
  },
  {
   "cell_type": "code",
   "execution_count": 19,
   "metadata": {},
   "outputs": [],
   "source": [
    "p.age =5"
   ]
  },
  {
   "cell_type": "code",
   "execution_count": 20,
   "metadata": {},
   "outputs": [
    {
     "name": "stdout",
     "output_type": "stream",
     "text": [
      "5\n"
     ]
    }
   ],
   "source": [
    "print(p.age)"
   ]
  },
  {
   "cell_type": "code",
   "execution_count": 21,
   "metadata": {},
   "outputs": [
    {
     "name": "stdout",
     "output_type": "stream",
     "text": [
      "age must be <= 100\n"
     ]
    }
   ],
   "source": [
    "try:\n",
    "    p.age = 200\n",
    "except ValueError as ex:\n",
    "    print(ex)"
   ]
  },
  {
   "cell_type": "code",
   "execution_count": 22,
   "metadata": {},
   "outputs": [],
   "source": [
    "import unittest"
   ]
  },
  {
   "cell_type": "code",
   "execution_count": 23,
   "metadata": {},
   "outputs": [],
   "source": [
    "def run_tests(test_class):\n",
    "    suite = unittest.TestLoader().loadTestsFromTestCase(test_class)\n",
    "    runner = unittest.TextTestRunner(verbosity=2)\n",
    "    result = runner.run(suite)"
   ]
  },
  {
   "cell_type": "code",
   "execution_count": 26,
   "metadata": {},
   "outputs": [],
   "source": [
    "class TestIntegerField(unittest.TestCase):\n",
    "    class Person:\n",
    "        age = IntegerField(0, 10)\n",
    "\n",
    "    def test_set_age_ok(self):\n",
    "        p = self.Person()\n",
    "        p.age = 0\n",
    "        self.assertEqual(0, p.age)"
   ]
  },
  {
   "cell_type": "code",
   "execution_count": 27,
   "metadata": {},
   "outputs": [
    {
     "name": "stderr",
     "output_type": "stream",
     "text": [
      "test_set_age_ok (__main__.TestIntegerField) ... ok\n",
      "\n",
      "----------------------------------------------------------------------\n",
      "Ran 1 test in 0.002s\n",
      "\n",
      "OK\n"
     ]
    }
   ],
   "source": [
    "run_tests(TestIntegerField)"
   ]
  },
  {
   "cell_type": "code",
   "execution_count": 28,
   "metadata": {},
   "outputs": [],
   "source": [
    "class TestIntegerField(unittest.TestCase):\n",
    "    class Person:\n",
    "        age = IntegerField(0, 10)\n",
    "\n",
    "    def test_set_age_ok(self):\n",
    "        min_ = 5\n",
    "        max_ = 10\n",
    "        self.Person.age = IntegerField(5, 10)\n",
    "\n",
    "        p = self.Person()\n",
    "        p.age = 5\n",
    "        self.assertEqual(5, p.age)"
   ]
  },
  {
   "cell_type": "code",
   "execution_count": 29,
   "metadata": {},
   "outputs": [
    {
     "name": "stderr",
     "output_type": "stream",
     "text": [
      "test_set_age_ok (__main__.TestIntegerField) ... ERROR\n",
      "\n",
      "======================================================================\n",
      "ERROR: test_set_age_ok (__main__.TestIntegerField)\n",
      "----------------------------------------------------------------------\n",
      "Traceback (most recent call last):\n",
      "  File \"C:\\Users\\nikit\\AppData\\Local\\Temp\\ipykernel_39664\\1869443481.py\", line 11, in test_set_age_ok\n",
      "    p.age = 5\n",
      "  File \"C:\\Users\\nikit\\AppData\\Local\\Temp\\ipykernel_39664\\104829885.py\", line 18, in __set__\n",
      "    instance.__dict__[self.prop_name] = value\n",
      "AttributeError: 'IntegerField' object has no attribute 'prop_name'\n",
      "\n",
      "----------------------------------------------------------------------\n",
      "Ran 1 test in 0.002s\n",
      "\n",
      "FAILED (errors=1)\n"
     ]
    }
   ],
   "source": [
    "run_tests(TestIntegerField)"
   ]
  },
  {
   "cell_type": "code",
   "execution_count": 30,
   "metadata": {},
   "outputs": [],
   "source": [
    "class TestIntegerField(unittest.TestCase):\n",
    "    class Person:\n",
    "        age = IntegerField(0, 10)\n",
    "\n",
    "    def create_person(self, min_, max_):\n",
    "        self.Person.age = IntegerField(min_, max_)\n",
    "        self.Person.age.__set_name__(Person, \"age\")\n",
    "        return self.Person()\n",
    "\n",
    "    def test_set_age_ok(self):\n",
    "        min_ = 5\n",
    "        max_ = 10\n",
    "        p = self.create_person(min_, max_)\n",
    "        p = self.Person()\n",
    "        \n",
    "        p.age = 5\n",
    "        self.assertEqual(5, p.age)"
   ]
  },
  {
   "cell_type": "code",
   "execution_count": 31,
   "metadata": {},
   "outputs": [
    {
     "name": "stderr",
     "output_type": "stream",
     "text": [
      "test_set_age_ok (__main__.TestIntegerField) ... ok\n",
      "\n",
      "----------------------------------------------------------------------\n",
      "Ran 1 test in 0.002s\n",
      "\n",
      "OK\n"
     ]
    }
   ],
   "source": [
    "run_tests(TestIntegerField)"
   ]
  },
  {
   "cell_type": "code",
   "execution_count": 32,
   "metadata": {},
   "outputs": [],
   "source": [
    "class Person():\n",
    "    a= 10"
   ]
  },
  {
   "cell_type": "code",
   "execution_count": 33,
   "metadata": {},
   "outputs": [
    {
     "data": {
      "text/plain": [
       "type"
      ]
     },
     "execution_count": 33,
     "metadata": {},
     "output_type": "execute_result"
    }
   ],
   "source": [
    "type(Person)"
   ]
  },
  {
   "cell_type": "code",
   "execution_count": 34,
   "metadata": {},
   "outputs": [],
   "source": [
    "Person = type(\"Person\", (), {'a' : 10})"
   ]
  },
  {
   "cell_type": "code",
   "execution_count": 35,
   "metadata": {},
   "outputs": [
    {
     "data": {
      "text/plain": [
       "mappingproxy({'a': 10,\n",
       "              '__module__': '__main__',\n",
       "              '__dict__': <attribute '__dict__' of 'Person' objects>,\n",
       "              '__weakref__': <attribute '__weakref__' of 'Person' objects>,\n",
       "              '__doc__': None})"
      ]
     },
     "execution_count": 35,
     "metadata": {},
     "output_type": "execute_result"
    }
   ],
   "source": [
    "Person.__dict__"
   ]
  },
  {
   "cell_type": "code",
   "execution_count": 36,
   "metadata": {},
   "outputs": [
    {
     "data": {
      "text/plain": [
       "10"
      ]
     },
     "execution_count": 36,
     "metadata": {},
     "output_type": "execute_result"
    }
   ],
   "source": [
    "Person.a"
   ]
  },
  {
   "cell_type": "code",
   "execution_count": 39,
   "metadata": {},
   "outputs": [],
   "source": [
    "class TestIntegerField(unittest.TestCase):\n",
    "    @staticmethod\n",
    "    def create_test_class(min_, max_):\n",
    "        obj = type('TestClass', (), {'age' : IntegerField(min_, max_)})\n",
    "        return obj\n",
    "\n",
    "    def test_set_age_ok(self):\n",
    "        min_ = 5\n",
    "        max_ = 10\n",
    "        p = self.create_test_class(min_, max_)\n",
    "        \n",
    "        p.age = 5\n",
    "        self.assertEqual(5, p.age)"
   ]
  },
  {
   "cell_type": "code",
   "execution_count": 40,
   "metadata": {},
   "outputs": [
    {
     "name": "stderr",
     "output_type": "stream",
     "text": [
      "test_set_age_ok (__main__.TestIntegerField) ... ok\n",
      "\n",
      "----------------------------------------------------------------------\n",
      "Ran 1 test in 0.002s\n",
      "\n",
      "OK\n"
     ]
    }
   ],
   "source": [
    "run_tests(TestIntegerField)"
   ]
  },
  {
   "cell_type": "code",
   "execution_count": 41,
   "metadata": {},
   "outputs": [],
   "source": [
    "class TestIntegerField(unittest.TestCase):\n",
    "    @staticmethod\n",
    "    def create_test_class(min_, max_):\n",
    "        obj = type('TestClass', (), {'age' : IntegerField(min_, max_)})\n",
    "        return obj\n",
    "\n",
    "    def test_set_age_ok(self):\n",
    "        min_ = 5\n",
    "        max_ = 10\n",
    "        obj = self.create_test_class(min_, max_)\n",
    "        valid_values = range(min_, max_ + 1)\n",
    "\n",
    "        for i, value in enumerate(valid_values):\n",
    "            with self.subTest(test_number=i):\n",
    "                obj.age = value\n",
    "                self.assertEqual(value, obj.age)\n",
    "\n",
    "       "
   ]
  },
  {
   "cell_type": "code",
   "execution_count": 42,
   "metadata": {},
   "outputs": [
    {
     "name": "stderr",
     "output_type": "stream",
     "text": [
      "test_set_age_ok (__main__.TestIntegerField) ... ok\n",
      "\n",
      "----------------------------------------------------------------------\n",
      "Ran 1 test in 0.002s\n",
      "\n",
      "OK\n"
     ]
    }
   ],
   "source": [
    "run_tests(TestIntegerField)"
   ]
  },
  {
   "cell_type": "code",
   "execution_count": 45,
   "metadata": {},
   "outputs": [],
   "source": [
    "class TestIntegerField(unittest.TestCase):\n",
    "    @staticmethod\n",
    "    def create_test_class(min_, max_):\n",
    "        obj = type('TestClass', (), {'age': IntegerField(min_, max_)})\n",
    "        return obj()\n",
    "        \n",
    "    def test_set_age_ok(self):\n",
    "        \"\"\"Tests that valid values can be assigned/retrieved\"\"\"\n",
    "        min_ = 5\n",
    "        max_ = 10\n",
    "        obj = self.create_test_class(min_, max_)\n",
    "        valid_values = range(min_, max_)\n",
    "        \n",
    "        for i, value in enumerate(valid_values):\n",
    "            with self.subTest(test_number=i):\n",
    "                obj.age = value\n",
    "                self.assertEqual(value, obj.age)\n",
    "                \n",
    "    def test_set_age_invalid(self):\n",
    "        \"\"\"Tests that invalid values raise ValueErrors\"\"\"\n",
    "        min_ = -10\n",
    "        max_ = 10\n",
    "        obj = self.create_test_class(min_, max_)\n",
    "        bad_values = list(range(min_ - 5, min_))\n",
    "        bad_values += list(range(max_ + 1, max_ + 5))\n",
    "        bad_values += [10.5, 1 + 0j, 'abc', (1, 2)]\n",
    "        \n",
    "        for i, value in enumerate(bad_values):\n",
    "            with self.subTest(test_number=i):\n",
    "                with self.assertRaises(ValueError):\n",
    "                    obj.age = value\n",
    "                    \n",
    "    def test_class_get(self):\n",
    "        \"\"\"Tests that class attribute retrieval returns the descriptor instance\"\"\"\n",
    "        obj = self.create_test_class(0, 0)\n",
    "        obj_class = type(obj)\n",
    "        self.assertIsInstance(obj_class.age, IntegerField)"
   ]
  },
  {
   "cell_type": "code",
   "execution_count": 46,
   "metadata": {},
   "outputs": [
    {
     "name": "stderr",
     "output_type": "stream",
     "text": [
      "test_class_get (__main__.TestIntegerField)\n",
      "Tests that class attribute retrieval returns the descriptor instance ... ok\n",
      "test_set_age_invalid (__main__.TestIntegerField)\n",
      "Tests that invalid values raise ValueErrors ... ok\n",
      "test_set_age_ok (__main__.TestIntegerField)\n",
      "Tests that valid values can be assigned/retrieved ... ok\n",
      "\n",
      "----------------------------------------------------------------------\n",
      "Ran 3 tests in 0.008s\n",
      "\n",
      "OK\n"
     ]
    }
   ],
   "source": [
    "run_tests(TestIntegerField)"
   ]
  },
  {
   "cell_type": "code",
   "execution_count": 53,
   "metadata": {},
   "outputs": [],
   "source": [
    "class TestIntegerField(unittest.TestCase):\n",
    "    @staticmethod\n",
    "    def create_test_class(min_, max_):\n",
    "        obj = type('TestClass', (), {'age': IntegerField(min_, max_)})\n",
    "        return obj()\n",
    "        \n",
    "    def test_set_age_ok(self):\n",
    "        \"\"\"Tests that valid values can be assigned/retrieved\"\"\"\n",
    "        min_ = 5\n",
    "        max_ = 10\n",
    "        obj = self.create_test_class(min_, max_)\n",
    "        valid_values = range(min_, max_)\n",
    "        \n",
    "        for i, value in enumerate(valid_values):\n",
    "            with self.subTest(test_number=i):\n",
    "                obj.age = value\n",
    "                self.assertEqual(value, obj.age)\n",
    "                \n",
    "    def test_set_age_invalid(self):\n",
    "        \"\"\"Tests that invalid values raise ValueErrors\"\"\"\n",
    "        min_ = -10\n",
    "        max_ = 10\n",
    "        obj = self.create_test_class(min_, max_)\n",
    "        bad_values = list(range(min_ - 5, min_))\n",
    "        bad_values += list(range(max_ + 1, max_ + 5))\n",
    "        bad_values += [10.5, 1 + 0j, 'abc', (1, 2)]\n",
    "        \n",
    "        for i, value in enumerate(bad_values):\n",
    "            with self.subTest(test_number=i):\n",
    "                with self.assertRaises(ValueError):\n",
    "                    obj.age = value\n",
    "                    \n",
    "    def test_class_get(self):\n",
    "        \"\"\"Tests that class attribute retrieval returns the descriptor instance\"\"\"\n",
    "        obj = self.create_test_class(0, 0)\n",
    "        obj_class = type(obj)\n",
    "        self.assertIsInstance(obj_class.age, IntegerField)\n",
    "\n",
    "    def test_set_age_min_only(self):\n",
    "        \"\"\"Tests that we can specify min value only\"\"\"\n",
    "        min_ = 0\n",
    "        max_ = None\n",
    "        obj = self.create_test_class(min_, max_)\n",
    "        values = range(min_, min_+100, 10)\n",
    "\n",
    "        for i, value in enumerate(values):\n",
    "            with self.subTest(test_number=i):\n",
    "                obj.age = value\n",
    "                self.assertEqual(value, obj.age)\n",
    "\n",
    "    def test_set_age_max_only(self):\n",
    "        \"\"\"Tests that we can specify max value only\"\"\"\n",
    "        min_ = None\n",
    "        max_ = 10\n",
    "        obj = self.create_test_class(min_, max_)\n",
    "        values = range(max_-100, max_, 10)\n",
    "\n",
    "        for i, value in enumerate(values):\n",
    "            with self.subTest(test_number=i):\n",
    "                obj.age = value\n",
    "                self.assertEqual(value, obj.age)\n",
    "    \n",
    "    def test_set_age_no_limits(self):\n",
    "        \"\"\"Tests that we can specify max value only\"\"\"\n",
    "        min_ = None\n",
    "        max_ = None\n",
    "        obj = self.create_test_class(min_, max_)\n",
    "        values = range(-100, 100, 10)\n",
    "\n",
    "        for i, value in enumerate(values):\n",
    "            with self.subTest(test_number=i):\n",
    "                obj.age = value\n",
    "                self.assertEqual(value, obj.age)"
   ]
  },
  {
   "cell_type": "code",
   "execution_count": 54,
   "metadata": {},
   "outputs": [
    {
     "name": "stderr",
     "output_type": "stream",
     "text": [
      "test_class_get (__main__.TestIntegerField)\n",
      "Tests that class attribute retrieval returns the descriptor instance ... ok\n",
      "test_set_age_invalid (__main__.TestIntegerField)\n",
      "Tests that invalid values raise ValueErrors ... ok\n",
      "test_set_age_max_only (__main__.TestIntegerField)\n",
      "Tests that we can specify max value only ... ok\n",
      "test_set_age_min_only (__main__.TestIntegerField)\n",
      "Tests that we can specify min value only ... ok\n",
      "test_set_age_no_limits (__main__.TestIntegerField)\n",
      "Tests that we can specify max value only ... ok\n",
      "test_set_age_ok (__main__.TestIntegerField)\n",
      "Tests that valid values can be assigned/retrieved ... ok\n",
      "\n",
      "----------------------------------------------------------------------\n",
      "Ran 6 tests in 0.010s\n",
      "\n",
      "OK\n"
     ]
    }
   ],
   "source": [
    "run_tests(TestIntegerField)"
   ]
  },
  {
   "cell_type": "code",
   "execution_count": 55,
   "metadata": {},
   "outputs": [],
   "source": [
    "class IntegerField:\n",
    "    def __init__(self, min_ = None, max_ = None):\n",
    "        self._min = min_\n",
    "        self._max = max_\n",
    "\n",
    "    def __set_name__(self, owner_class, prop_name):\n",
    "        self.prop_name = prop_name\n",
    "    \n",
    "    def __set__(self, instance, value):\n",
    "        if not isinstance(value, numbers.Integral):\n",
    "            raise ValueError(f'{self.prop_name} must be an integer value.')\n",
    "        if self._min is not None and value < self._min:\n",
    "            raise ValueError(f'{self.prop_name} must be >= {self._min}')\n",
    "        if self._max is not None and value > self._max:\n",
    "            raise ValueError(f'{self.prop_name} must be <= {self._max}')\n",
    "        instance.__dict__[self.prop_name] = value\n",
    "\n",
    "    def __get__(self, instance, owner_class):\n",
    "        if instance is None:\n",
    "            return self\n",
    "        return instance.__dict__.get(self.prop_name, None)"
   ]
  },
  {
   "cell_type": "code",
   "execution_count": 56,
   "metadata": {},
   "outputs": [
    {
     "name": "stderr",
     "output_type": "stream",
     "text": [
      "test_class_get (__main__.TestIntegerField)\n",
      "Tests that class attribute retrieval returns the descriptor instance ... ok\n",
      "test_set_age_invalid (__main__.TestIntegerField)\n",
      "Tests that invalid values raise ValueErrors ... ok\n",
      "test_set_age_max_only (__main__.TestIntegerField)\n",
      "Tests that we can specify max value only ... ok\n",
      "test_set_age_min_only (__main__.TestIntegerField)\n",
      "Tests that we can specify min value only ... ok\n",
      "test_set_age_no_limits (__main__.TestIntegerField)\n",
      "Tests that we can specify max value only ... ok\n",
      "test_set_age_ok (__main__.TestIntegerField)\n",
      "Tests that valid values can be assigned/retrieved ... ok\n",
      "\n",
      "----------------------------------------------------------------------\n",
      "Ran 6 tests in 0.007s\n",
      "\n",
      "OK\n"
     ]
    }
   ],
   "source": [
    "run_tests(TestIntegerField)"
   ]
  },
  {
   "cell_type": "code",
   "execution_count": 80,
   "metadata": {},
   "outputs": [],
   "source": [
    "class CharField:\n",
    "    def __init__(self, min_=None, max_=None):\n",
    "        min_ = min_ or 0  \n",
    "        min_ = max(min_, 0) \n",
    "        self._min = min_\n",
    "        self._max = max_\n",
    "\n",
    "    def __set_name__(self, owner_class, prop_name):\n",
    "        self.prop_name = prop_name\n",
    "    \n",
    "    def __set__(self, instance, value):\n",
    "        if not isinstance(value, str):\n",
    "            raise ValueError(f'{self.prop_name} must be a string.')\n",
    "        if self._min is not None and len(value) < self._min:\n",
    "            raise ValueError(f'{self.prop_name} must be >= {self._min} chars.')\n",
    "        if self._max is not None and len(value) > self._max:\n",
    "            raise ValueError(f'{self.prop_name} must be <= {self._max} chars')\n",
    "        instance.__dict__[self.prop_name] = value\n",
    "\n",
    "    def __get__(self, instance, owner_class):\n",
    "        if instance is None:\n",
    "            return self\n",
    "        else:\n",
    "            return instance.__dict__.get(self.prop_name, None)"
   ]
  },
  {
   "cell_type": "code",
   "execution_count": 81,
   "metadata": {},
   "outputs": [],
   "source": [
    "class Person:\n",
    "    name = CharField(1, 10)\n"
   ]
  },
  {
   "cell_type": "code",
   "execution_count": 82,
   "metadata": {},
   "outputs": [],
   "source": [
    "p = Person()"
   ]
  },
  {
   "cell_type": "code",
   "execution_count": 84,
   "metadata": {},
   "outputs": [
    {
     "name": "stdout",
     "output_type": "stream",
     "text": [
      "name must be <= 10 chars\n"
     ]
    }
   ],
   "source": [
    "try:\n",
    "    p.name = \"fghvhkbhjkyukv\"\n",
    "except ValueError as ex:\n",
    "    print(ex)"
   ]
  },
  {
   "cell_type": "code",
   "execution_count": 85,
   "metadata": {},
   "outputs": [],
   "source": [
    "p.name = 'Nik'"
   ]
  },
  {
   "cell_type": "code",
   "execution_count": 87,
   "metadata": {},
   "outputs": [
    {
     "data": {
      "text/plain": [
       "'Nik'"
      ]
     },
     "execution_count": 87,
     "metadata": {},
     "output_type": "execute_result"
    }
   ],
   "source": [
    "p.name"
   ]
  },
  {
   "cell_type": "code",
   "execution_count": 88,
   "metadata": {},
   "outputs": [],
   "source": [
    "class Person:\n",
    "    name = CharField(1)"
   ]
  },
  {
   "cell_type": "code",
   "execution_count": 89,
   "metadata": {},
   "outputs": [],
   "source": [
    "p = Person()"
   ]
  },
  {
   "cell_type": "code",
   "execution_count": 90,
   "metadata": {},
   "outputs": [],
   "source": [
    "p.name = \"ftvgyuhoildewvedor8iu7fgvbiewrdy8gvfb\""
   ]
  },
  {
   "cell_type": "code",
   "execution_count": 91,
   "metadata": {},
   "outputs": [],
   "source": [
    "class TestCharField(unittest.TestCase):\n",
    "    @staticmethod\n",
    "    def create_test_class(min_, max_):\n",
    "        obj = type('TestClass', (), {'name': CharField(min_, max_)})\n",
    "        return obj()\n",
    "        \n",
    "    def test_set_name_ok(self):\n",
    "        \"\"\"Tests that valid values can be assigned/retrieved\"\"\"\n",
    "        min_ = 1\n",
    "        max_ = 10\n",
    "        obj = self.create_test_class(min_, max_)\n",
    "        valid_lengths = range(min_, max_)\n",
    "        \n",
    "        for i, length in enumerate(valid_lengths):\n",
    "            value = 'a' * length\n",
    "            with self.subTest(test_number=i):\n",
    "                obj.name = value\n",
    "                self.assertEqual(value, obj.name)\n",
    "            \n",
    "    def test_set_name_invalid(self):\n",
    "        \"\"\"Tests that invalid values raise ValueErrors\"\"\"\n",
    "        min_ = 5\n",
    "        max_ = 10\n",
    "        obj = self.create_test_class(min_, max_)\n",
    "        bad_lengths = list(range(min_ - 5, min_))\n",
    "        bad_lengths += list(range(max_ + 1, max_ + 5))\n",
    "        for i, length in enumerate(bad_lengths):\n",
    "            value = 'a' * length\n",
    "            with self.subTest(test_number=i):\n",
    "                with self.assertRaises(ValueError):\n",
    "                    obj.name = value\n",
    "                    \n",
    "    def test_class_get(self):\n",
    "        \"\"\"Tests that class attribute retrieval returns the descriptor instance\"\"\"\n",
    "        obj = self.create_test_class(0, 0)\n",
    "        obj_class = type(obj)\n",
    "        self.assertIsInstance(obj_class.name, CharField)\n",
    "        \n",
    "    def test_set_name_min_only(self):\n",
    "        \"\"\"Tests that we can specify a min length only\"\"\"\n",
    "        min_ = 0\n",
    "        max_ = None\n",
    "        obj = self.create_test_class(min_, max_)\n",
    "        valid_lengths = range(min_, min_ + 100, 10)\n",
    "        for i, length in enumerate(valid_lengths):\n",
    "            value = 'a' * length\n",
    "            with self.subTest(test_number=i):\n",
    "                obj.name = value\n",
    "                self.assertEqual(value, obj.name)\n",
    "    \n",
    "    def test_set_name_min_negative_or_none(self):\n",
    "        \"\"\"Tests that setting a negative or None length results in a zero length\"\"\"\n",
    "        obj = self.create_test_class(-10, 100)\n",
    "        self.assertEqual(type(obj).name._min, 0)\n",
    "        self.assertEqual(type(obj).name._max, 100)\n",
    "        \n",
    "        obj = self.create_test_class(None, None)\n",
    "        self.assertEqual(type(obj).name._min, 0)\n",
    "        self.assertIsNone(type(obj).name._max)\n",
    "        \n",
    "    def test_set_name_max_only(self):\n",
    "        \"\"\"Tests that we can specify a max length only\"\"\"\n",
    "        min_ = None\n",
    "        max_ = 10\n",
    "        obj = self.create_test_class(min_, max_)\n",
    "        valid_lengths = range(max_ - 100, max_, 10)\n",
    "        for i, length in enumerate(valid_lengths):\n",
    "            value = 'a' * length\n",
    "            with self.subTest(test_number=i):\n",
    "                obj.name = value\n",
    "                self.assertEqual(value, obj.name)\n",
    "                \n",
    "    def test_set_name_no_limits(self):\n",
    "        \"\"\"Tests that we can use CharField without any limits at all\"\"\"\n",
    "        min_ = None\n",
    "        max_ = None\n",
    "        obj = self.create_test_class(min_, max_)\n",
    "        valid_lengths = range(0, 100, 10)\n",
    "        for i, length in enumerate(valid_lengths):\n",
    "            value = 'a' * length\n",
    "            with self.subTest(test_number=i):\n",
    "                obj.name = value\n",
    "                self.assertEqual(value, obj.name)"
   ]
  },
  {
   "cell_type": "code",
   "execution_count": 92,
   "metadata": {},
   "outputs": [
    {
     "name": "stderr",
     "output_type": "stream",
     "text": [
      "test_class_get (__main__.TestCharField)\n",
      "Tests that class attribute retrieval returns the descriptor instance ... ok\n",
      "test_set_name_invalid (__main__.TestCharField)\n",
      "Tests that invalid values raise ValueErrors ... ok\n",
      "test_set_name_max_only (__main__.TestCharField)\n",
      "Tests that we can specify a max length only ... ok\n",
      "test_set_name_min_negative_or_none (__main__.TestCharField)\n",
      "Tests that setting a negative or None length results in a zero length ... ok\n",
      "test_set_name_min_only (__main__.TestCharField)\n",
      "Tests that we can specify a min length only ... ok\n",
      "test_set_name_no_limits (__main__.TestCharField)\n",
      "Tests that we can use CharField without any limits at all ... ok\n",
      "test_set_name_ok (__main__.TestCharField)\n",
      "Tests that valid values can be assigned/retrieved ... ok\n",
      "\n",
      "----------------------------------------------------------------------\n",
      "Ran 7 tests in 0.011s\n",
      "\n",
      "OK\n"
     ]
    }
   ],
   "source": [
    "run_tests(TestCharField)"
   ]
  },
  {
   "cell_type": "code",
   "execution_count": null,
   "metadata": {},
   "outputs": [],
   "source": []
  }
 ],
 "metadata": {
  "kernelspec": {
   "display_name": "Python 3.10.5 64-bit",
   "language": "python",
   "name": "python3"
  },
  "language_info": {
   "codemirror_mode": {
    "name": "ipython",
    "version": 3
   },
   "file_extension": ".py",
   "mimetype": "text/x-python",
   "name": "python",
   "nbconvert_exporter": "python",
   "pygments_lexer": "ipython3",
   "version": "3.10.5"
  },
  "orig_nbformat": 4,
  "vscode": {
   "interpreter": {
    "hash": "e7d4d1fdefab968d87dae697830712be305784682ed311731942beb8000e292d"
   }
  }
 },
 "nbformat": 4,
 "nbformat_minor": 2
}
