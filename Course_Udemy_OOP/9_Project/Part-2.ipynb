{
 "cells": [
  {
   "cell_type": "code",
   "execution_count": 1,
   "metadata": {},
   "outputs": [],
   "source": [
    "import numbers\n",
    "\n",
    "class IntegerField:\n",
    "    def __init__(self, min_ = None, max_ = None):\n",
    "        self._min = min_\n",
    "        self._max = max_\n",
    "\n",
    "    def __set_name__(self, owner_class, prop_name):\n",
    "        self.prop_name = prop_name\n",
    "    \n",
    "    def __set__(self, instance, value):\n",
    "        if not isinstance(value, numbers.Integral):\n",
    "            raise ValueError(f'{self.prop_name} must be an integer value.')\n",
    "        if self._min is not None and value < self._min:\n",
    "            raise ValueError(f'{self.prop_name} must be >= {self._min}')\n",
    "        if self._max is not None and value > self._max:\n",
    "            raise ValueError(f'{self.prop_name} must be <= {self._max}')\n",
    "        instance.__dict__[self.prop_name] = value\n",
    "\n",
    "    def __get__(self, instance, owner_class):\n",
    "        if instance is None:\n",
    "            return self\n",
    "        return instance.__dict__.get(self.prop_name, None)\n",
    "\n",
    "class CharField:\n",
    "    def __init__(self, min_=None, max_=None):\n",
    "        min_ = min_ or 0  \n",
    "        min_ = max(min_, 0) \n",
    "        self._min = min_\n",
    "        self._max = max_\n",
    "\n",
    "    def __set_name__(self, owner_class, prop_name):\n",
    "        self.prop_name = prop_name\n",
    "    \n",
    "    def __set__(self, instance, value):\n",
    "        if not isinstance(value, str):\n",
    "            raise ValueError(f'{self.prop_name} must be a string.')\n",
    "        if self._min is not None and len(value) < self._min:\n",
    "            raise ValueError(f'{self.prop_name} must be >= {self._min} chars.')\n",
    "        if self._max is not None and len(value) > self._max:\n",
    "            raise ValueError(f'{self.prop_name} must be <= {self._max} chars')\n",
    "        instance.__dict__[self.prop_name] = value\n",
    "\n",
    "    def __get__(self, instance, owner_class):\n",
    "        if instance is None:\n",
    "            return self\n",
    "        else:\n",
    "            return instance.__dict__.get(self.prop_name, None)"
   ]
  },
  {
   "cell_type": "code",
   "execution_count": 2,
   "metadata": {},
   "outputs": [],
   "source": [
    "class BaseValidator:\n",
    "    def __init__(self, min_=None, max_=None):\n",
    "        self._min = min_\n",
    "        self._max = max_\n",
    "\n",
    "    def __set_name__(self, owner_class, prop_name):\n",
    "        self.prop_name = prop_name\n",
    "    \n",
    "    def __get__(self, instance, owner_class):\n",
    "        if instance is None:\n",
    "            return self\n",
    "        else:\n",
    "            return instance.__dict__.get(self.prop_name, None)\n",
    "\n",
    "    def validate(self, value):\n",
    "        # This must be implemented specifically by each subclass\n",
    "        pass\n",
    "\n",
    "    def __set__(self, instance, value):\n",
    "        self.validate(value)\n",
    "        instance.__dict__[self.prop_name] = value\n",
    "\n",
    "    "
   ]
  },
  {
   "cell_type": "code",
   "execution_count": 3,
   "metadata": {},
   "outputs": [],
   "source": [
    "class Person:\n",
    "    name = BaseValidator()"
   ]
  },
  {
   "cell_type": "code",
   "execution_count": 4,
   "metadata": {},
   "outputs": [],
   "source": [
    "p = Person()"
   ]
  },
  {
   "cell_type": "code",
   "execution_count": 5,
   "metadata": {},
   "outputs": [],
   "source": [
    "p.name = \"Alex\""
   ]
  },
  {
   "cell_type": "code",
   "execution_count": 6,
   "metadata": {},
   "outputs": [
    {
     "data": {
      "text/plain": [
       "'Alex'"
      ]
     },
     "execution_count": 6,
     "metadata": {},
     "output_type": "execute_result"
    }
   ],
   "source": [
    "p.name"
   ]
  },
  {
   "cell_type": "code",
   "execution_count": 7,
   "metadata": {},
   "outputs": [],
   "source": [
    "p.name = [1, 2, 3]"
   ]
  },
  {
   "cell_type": "code",
   "execution_count": 8,
   "metadata": {},
   "outputs": [
    {
     "data": {
      "text/plain": [
       "[1, 2, 3]"
      ]
     },
     "execution_count": 8,
     "metadata": {},
     "output_type": "execute_result"
    }
   ],
   "source": [
    "p.name"
   ]
  },
  {
   "cell_type": "code",
   "execution_count": 9,
   "metadata": {},
   "outputs": [],
   "source": [
    "class IntegerField(BaseValidator):\n",
    "    def validate(self, value):\n",
    "        if not isinstance(value, numbers.Integral):\n",
    "            raise ValueError(f'{self.prop_name} must be an integer value.')\n",
    "        if self._min is not None and value < self._min:\n",
    "            raise ValueError(f'{self.prop_name} must be >= {self._min}')\n",
    "        if self._max is not None and value > self._max:\n",
    "            raise ValueError(f'{self.prop_name} must be <= {self._max}')"
   ]
  },
  {
   "cell_type": "code",
   "execution_count": 10,
   "metadata": {},
   "outputs": [],
   "source": [
    "class CharField(BaseValidator):\n",
    "    def __init__(self, min_, max_):\n",
    "        min_ = max(min_ or 0, 0)\n",
    "        super().__init__(min_, max_)\n",
    "\n",
    "    def validate(self, value):\n",
    "        if not isinstance(value, str):\n",
    "            raise ValueError(f'{self.prop_name} must be a string.')\n",
    "        if self._min is not None and len(value) < self._min:\n",
    "            raise ValueError(f'{self.prop_name} must be >= {self._min} chars.')\n",
    "        if self._max is not None and len(value) > self._max:\n",
    "            raise ValueError(f'{self.prop_name} must be <= {self._max} chars')"
   ]
  },
  {
   "cell_type": "code",
   "execution_count": 11,
   "metadata": {},
   "outputs": [],
   "source": [
    "import unittest\n",
    "\n",
    "def run_tests(test_class):\n",
    "    suite = unittest.TestLoader().loadTestsFromTestCase(test_class)\n",
    "    runner = unittest.TextTestRunner(verbosity=2)\n",
    "    result = runner.run(suite)"
   ]
  },
  {
   "cell_type": "code",
   "execution_count": 12,
   "metadata": {},
   "outputs": [],
   "source": [
    "class TestIntegerField(unittest.TestCase):\n",
    "    @staticmethod\n",
    "    def create_test_class(min_, max_):\n",
    "        obj = type('TestClass', (), {'age': IntegerField(min_, max_)})\n",
    "        return obj()\n",
    "        \n",
    "    def test_set_age_ok(self):\n",
    "        \"\"\"Tests that valid values can be assigned/retrieved\"\"\"\n",
    "        min_ = 5\n",
    "        max_ = 10\n",
    "        obj = self.create_test_class(min_, max_)\n",
    "        valid_values = range(min_, max_)\n",
    "        \n",
    "        for i, value in enumerate(valid_values):\n",
    "            with self.subTest(test_number=i):\n",
    "                obj.age = value\n",
    "                self.assertEqual(value, obj.age)\n",
    "                \n",
    "    def test_set_age_invalid(self):\n",
    "        \"\"\"Tests that invalid values raise ValueErrors\"\"\"\n",
    "        min_ = -10\n",
    "        max_ = 10\n",
    "        obj = self.create_test_class(min_, max_)\n",
    "        bad_values = list(range(min_ - 5, min_))\n",
    "        bad_values += list(range(max_ + 1, max_ + 5))\n",
    "        bad_values += [10.5, 1 + 0j, 'abc', (1, 2)]\n",
    "        \n",
    "        for i, value in enumerate(bad_values):\n",
    "            with self.subTest(test_number=i):\n",
    "                with self.assertRaises(ValueError):\n",
    "                    obj.age = value\n",
    "                    \n",
    "    def test_class_get(self):\n",
    "        \"\"\"Tests that class attribute retrieval returns the descriptor instance\"\"\"\n",
    "        obj = self.create_test_class(0, 0)\n",
    "        obj_class = type(obj)\n",
    "        self.assertIsInstance(obj_class.age, IntegerField)\n",
    "        \n",
    "    def test_set_age_min_only(self):\n",
    "        \"\"\"Tests that we can specify a min value only\"\"\"\n",
    "        min_ = 0\n",
    "        max_ = None\n",
    "        obj = self.create_test_class(min_, max_)\n",
    "        values = range(min_, min_ + 100, 10)\n",
    "        for i, value in enumerate(values):\n",
    "            with self.subTest(test_number=i):\n",
    "                obj.age = value\n",
    "                self.assertEqual(value, obj.age)\n",
    "                \n",
    "    def test_set_age_max_only(self):\n",
    "        \"\"\"Tests that we can specify a max value only\"\"\"\n",
    "        min_ = None\n",
    "        max_ = 10\n",
    "        obj = self.create_test_class(min_, max_)\n",
    "        values = range(max_ - 100, max_, 10)\n",
    "        for i, value in enumerate(values):\n",
    "            with self.subTest(test_number=i):\n",
    "                obj.age = value\n",
    "                self.assertEqual(value, obj.age)\n",
    "                \n",
    "    def test_set_age_no_limits(self):\n",
    "        \"\"\"Tests that we can use IntegerField without any limits at all\"\"\"\n",
    "        min_ = None\n",
    "        max_ = None\n",
    "        obj = self.create_test_class(min_, max_)\n",
    "        values = range(-100, 100, 10)\n",
    "        for i, value in enumerate(values):\n",
    "            with self.subTest(test_number=i):\n",
    "                obj.age = value\n",
    "                self.assertEqual(value, obj.age)\n",
    "\n",
    "class TestCharField(unittest.TestCase):\n",
    "    @staticmethod\n",
    "    def create_test_class(min_, max_):\n",
    "        obj = type('TestClass', (), {'name': CharField(min_, max_)})\n",
    "        return obj()\n",
    "        \n",
    "    def test_set_name_ok(self):\n",
    "        \"\"\"Tests that valid values can be assigned/retrieved\"\"\"\n",
    "        min_ = 1\n",
    "        max_ = 10\n",
    "        obj = self.create_test_class(min_, max_)\n",
    "        valid_lengths = range(min_, max_)\n",
    "        \n",
    "        for i, length in enumerate(valid_lengths):\n",
    "            value = 'a' * length\n",
    "            with self.subTest(test_number=i):\n",
    "                obj.name = value\n",
    "                self.assertEqual(value, obj.name)\n",
    "            \n",
    "    def test_set_name_invalid(self):\n",
    "        \"\"\"Tests that invalid values raise ValueErrors\"\"\"\n",
    "        min_ = 5\n",
    "        max_ = 10\n",
    "        obj = self.create_test_class(min_, max_)\n",
    "        bad_lengths = list(range(min_ - 5, min_))\n",
    "        bad_lengths += list(range(max_ + 1, max_ + 5))\n",
    "        for i, length in enumerate(bad_lengths):\n",
    "            value = 'a' * length\n",
    "            with self.subTest(test_number=i):\n",
    "                with self.assertRaises(ValueError):\n",
    "                    obj.name = value\n",
    "                    \n",
    "    def test_class_get(self):\n",
    "        \"\"\"Tests that class attribute retrieval returns the descriptor instance\"\"\"\n",
    "        obj = self.create_test_class(0, 0)\n",
    "        obj_class = type(obj)\n",
    "        self.assertIsInstance(obj_class.name, CharField)\n",
    "        \n",
    "    def test_set_name_min_only(self):\n",
    "        \"\"\"Tests that we can specify a min length only\"\"\"\n",
    "        min_ = 0\n",
    "        max_ = None\n",
    "        obj = self.create_test_class(min_, max_)\n",
    "        valid_lengths = range(min_, min_ + 100, 10)\n",
    "        for i, length in enumerate(valid_lengths):\n",
    "            value = 'a' * length\n",
    "            with self.subTest(test_number=i):\n",
    "                obj.name = value\n",
    "                self.assertEqual(value, obj.name)\n",
    "    \n",
    "    def test_set_name_min_negative_or_none(self):\n",
    "        \"\"\"Tests that setting a negative or None length results in a zero length\"\"\"\n",
    "        obj = self.create_test_class(-10, 100)\n",
    "        self.assertEqual(type(obj).name._min, 0)\n",
    "        self.assertEqual(type(obj).name._max, 100)\n",
    "        \n",
    "        obj = self.create_test_class(None, None)\n",
    "        self.assertEqual(type(obj).name._min, 0)\n",
    "        self.assertIsNone(type(obj).name._max)\n",
    "        \n",
    "    def test_set_name_max_only(self):\n",
    "        \"\"\"Tests that we can specify a max length only\"\"\"\n",
    "        min_ = None\n",
    "        max_ = 10\n",
    "        obj = self.create_test_class(min_, max_)\n",
    "        valid_lengths = range(max_ - 100, max_, 10)\n",
    "        for i, length in enumerate(valid_lengths):\n",
    "            value = 'a' * length\n",
    "            with self.subTest(test_number=i):\n",
    "                obj.name = value\n",
    "                self.assertEqual(value, obj.name)\n",
    "                \n",
    "    def test_set_name_no_limits(self):\n",
    "        \"\"\"Tests that we can use CharField without any limits at all\"\"\"\n",
    "        min_ = None\n",
    "        max_ = None\n",
    "        obj = self.create_test_class(min_, max_)\n",
    "        valid_lengths = range(0, 100, 10)\n",
    "        for i, length in enumerate(valid_lengths):\n",
    "            value = 'a' * length\n",
    "            with self.subTest(test_number=i):\n",
    "                obj.name = value\n",
    "                self.assertEqual(value, obj.name)"
   ]
  },
  {
   "cell_type": "code",
   "execution_count": 14,
   "metadata": {},
   "outputs": [
    {
     "name": "stderr",
     "output_type": "stream",
     "text": [
      "test_class_get (__main__.TestIntegerField)\n",
      "Tests that class attribute retrieval returns the descriptor instance ... ok\n",
      "test_set_age_invalid (__main__.TestIntegerField)\n",
      "Tests that invalid values raise ValueErrors ... ok\n",
      "test_set_age_max_only (__main__.TestIntegerField)\n",
      "Tests that we can specify a max value only ... ok\n",
      "test_set_age_min_only (__main__.TestIntegerField)\n",
      "Tests that we can specify a min value only ... ok\n",
      "test_set_age_no_limits (__main__.TestIntegerField)\n",
      "Tests that we can use IntegerField without any limits at all ... ok\n",
      "test_set_age_ok (__main__.TestIntegerField)\n",
      "Tests that valid values can be assigned/retrieved ... ok\n",
      "\n",
      "----------------------------------------------------------------------\n",
      "Ran 6 tests in 0.012s\n",
      "\n",
      "OK\n"
     ]
    }
   ],
   "source": [
    "run_tests(TestIntegerField)"
   ]
  },
  {
   "cell_type": "code",
   "execution_count": 15,
   "metadata": {},
   "outputs": [
    {
     "name": "stderr",
     "output_type": "stream",
     "text": [
      "test_class_get (__main__.TestCharField)\n",
      "Tests that class attribute retrieval returns the descriptor instance ... ok\n",
      "test_set_name_invalid (__main__.TestCharField)\n",
      "Tests that invalid values raise ValueErrors ... ok\n",
      "test_set_name_max_only (__main__.TestCharField)\n",
      "Tests that we can specify a max length only ... ok\n",
      "test_set_name_min_negative_or_none (__main__.TestCharField)\n",
      "Tests that setting a negative or None length results in a zero length ... ok\n",
      "test_set_name_min_only (__main__.TestCharField)\n",
      "Tests that we can specify a min length only ... ok\n",
      "test_set_name_no_limits (__main__.TestCharField)\n",
      "Tests that we can use CharField without any limits at all ... ok\n",
      "test_set_name_ok (__main__.TestCharField)\n",
      "Tests that valid values can be assigned/retrieved ... ok\n",
      "\n",
      "----------------------------------------------------------------------\n",
      "Ran 7 tests in 0.010s\n",
      "\n",
      "OK\n"
     ]
    }
   ],
   "source": [
    "run_tests(TestCharField)"
   ]
  },
  {
   "cell_type": "code",
   "execution_count": null,
   "metadata": {},
   "outputs": [],
   "source": []
  }
 ],
 "metadata": {
  "kernelspec": {
   "display_name": "Python 3.10.5 64-bit",
   "language": "python",
   "name": "python3"
  },
  "language_info": {
   "codemirror_mode": {
    "name": "ipython",
    "version": 3
   },
   "file_extension": ".py",
   "mimetype": "text/x-python",
   "name": "python",
   "nbconvert_exporter": "python",
   "pygments_lexer": "ipython3",
   "version": "3.10.5"
  },
  "orig_nbformat": 4,
  "vscode": {
   "interpreter": {
    "hash": "e7d4d1fdefab968d87dae697830712be305784682ed311731942beb8000e292d"
   }
  }
 },
 "nbformat": 4,
 "nbformat_minor": 2
}
