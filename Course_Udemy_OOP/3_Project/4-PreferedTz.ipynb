{
 "cells": [
  {
   "cell_type": "code",
   "execution_count": 38,
   "metadata": {},
   "outputs": [],
   "source": [
    "from cmath import isfinite\n",
    "import numbers\n",
    "from datetime import timedelta\n",
    "import itertools\n",
    "\n",
    "class TimeZone:\n",
    "    def __init__(self, name, offset_hours, offset_minutes):\n",
    "        if name is None or len(str(name)) == 0:\n",
    "            raise ValueError(\"TimeZone name cannot be empty.\")\n",
    "\n",
    "        self._name = str(name).strip()\n",
    "\n",
    "        if not isinstance(offset_hours, numbers.Integral):\n",
    "            raise ValueError(\"Hours offset must be integer.\")\n",
    "        \n",
    "        if not isinstance(offset_minutes, numbers.Integral):\n",
    "            raise ValueError(\"Minutes offset must be integer.\")\n",
    "        \n",
    "        if offset_minutes >59 or offset_minutes <-59:\n",
    "            raise ValueError(\"Minutes offset must be in between (-59; 59).\")\n",
    "\n",
    "        if offset_minutes >59 or offset_minutes <-59:\n",
    "            raise ValueError(\"Minutes offset must be in between (-59; 59).\")\n",
    "\n",
    "\n",
    "        offset = timedelta(hours = offset_hours, minutes = offset_minutes)\n",
    "        if offset < timedelta(hours=-12, minutes = 0) or offset > timedelta(hours=14, minutes = 0):\n",
    "            raise ValueError(\"Offset must be in between (-12:00; +14:00).\")\n",
    "\n",
    "        self._offset_hours = offset_hours\n",
    "        self._offset_minutes = offset_minutes\n",
    "        self._offset = offset\n",
    "\n",
    "\n",
    "    @property\n",
    "    def offset(self):\n",
    "        return self._offset\n",
    "\n",
    "    @property\n",
    "    def name(self):\n",
    "        return self._name\n",
    "\n",
    "    def __eq__(self, other):\n",
    "        return (isinstance(other, TimeZone) and\n",
    "        self.name == other.name and\n",
    "        self._offset_hours == other._offset_hours and\n",
    "        self._offset_minutes == other._offset_minutes)\n",
    "\n",
    "    def __repr__(self):\n",
    "        return (f\"TimeZone(name='{self.name}', \"\n",
    "            f\"offset_hours={self._offset_hours}, \"\n",
    "            f\"offset_minutes={self._offset_minutes})\")"
   ]
  },
  {
   "cell_type": "code",
   "execution_count": 39,
   "metadata": {},
   "outputs": [],
   "source": [
    "from time import time, timezone\n",
    "\n",
    "\n",
    "\n",
    "\n",
    "class Account:\n",
    "    transaction_counter = itertools.count(100) # no def func needed\n",
    "\n",
    "    def __init__(self, account_number, first_name, last_name, timezone=None):\n",
    "        self._account_number = account_number\n",
    "        self.first_name = first_name\n",
    "        self.last_name = last_name\n",
    "        \n",
    "        if timezone is None:\n",
    "            print(\"done\")\n",
    "            timezone = TimeZone(\"UTC\", 0, 0)\n",
    "        self.timezone = timezone\n",
    "    \n",
    "\n",
    "\n",
    "    @property\n",
    "    def account_number(self):\n",
    "        return self._account_number\n",
    "    \n",
    "    @property\n",
    "    def first_name(self):\n",
    "        return self._first_name\n",
    "\n",
    "    @property\n",
    "    def last_name(self):\n",
    "        return self._last_name\n",
    "\n",
    "\n",
    "    @first_name.setter\n",
    "    def first_name(self, value):\n",
    "        self._first_name = Account.validate_name(value, \"First name\")\n",
    "\n",
    "    \n",
    "    @last_name.setter\n",
    "    def last_name(self, value):\n",
    "        self._last_name = Account.validate_name(value, \"Last name\")\n",
    "\n",
    "    @property\n",
    "    def timezone(self):\n",
    "        return self._timezone\n",
    "\n",
    "    @timezone.setter\n",
    "    def timezone(self, value):\n",
    "        if not isinstance(value, TimeZone):\n",
    "            raise ValueError(\"Time zone must be valid Timezone object.\")\n",
    "        self._timezone = value\n",
    "\n",
    "\n",
    "    @staticmethod\n",
    "    def validate_name(value, field_title):\n",
    "        if value is None or len(str(value).strip()) == 0:\n",
    "            raise ValueError(f\"{field_title} cannot be empty.\")\n",
    "        return str(value).strip()\n"
   ]
  },
  {
   "cell_type": "code",
   "execution_count": 40,
   "metadata": {},
   "outputs": [
    {
     "name": "stdout",
     "output_type": "stream",
     "text": [
      "Time zone must be valid Timezone object.\n"
     ]
    }
   ],
   "source": [
    "try:\n",
    "    a = Account('123', 'John', 'Smith', '-7:00')\n",
    "except ValueError as ex:\n",
    "    print(ex)\n"
   ]
  },
  {
   "cell_type": "code",
   "execution_count": 41,
   "metadata": {},
   "outputs": [
    {
     "name": "stdout",
     "output_type": "stream",
     "text": [
      "done\n",
      "TimeZone(name='UTC', offset_hours=0, offset_minutes=0)\n"
     ]
    }
   ],
   "source": [
    "a= Account(\"9870\", \"nmik\", \"jjj\")\n",
    "print(a.timezone)"
   ]
  },
  {
   "cell_type": "code",
   "execution_count": null,
   "metadata": {},
   "outputs": [],
   "source": []
  }
 ],
 "metadata": {
  "kernelspec": {
   "display_name": "Python 3.10.5 64-bit",
   "language": "python",
   "name": "python3"
  },
  "language_info": {
   "codemirror_mode": {
    "name": "ipython",
    "version": 3
   },
   "file_extension": ".py",
   "mimetype": "text/x-python",
   "name": "python",
   "nbconvert_exporter": "python",
   "pygments_lexer": "ipython3",
   "version": "3.10.5"
  },
  "orig_nbformat": 4,
  "vscode": {
   "interpreter": {
    "hash": "e7d4d1fdefab968d87dae697830712be305784682ed311731942beb8000e292d"
   }
  }
 },
 "nbformat": 4,
 "nbformat_minor": 2
}
