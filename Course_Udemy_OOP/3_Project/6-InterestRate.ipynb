{
 "cells": [
  {
   "cell_type": "code",
   "execution_count": 1,
   "metadata": {},
   "outputs": [],
   "source": [
    "from cmath import isfinite\n",
    "import numbers\n",
    "from datetime import timedelta\n",
    "import itertools\n",
    "\n",
    "class TimeZone:\n",
    "    def __init__(self, name, offset_hours, offset_minutes):\n",
    "        if name is None or len(str(name)) == 0:\n",
    "            raise ValueError(\"TimeZone name cannot be empty.\")\n",
    "\n",
    "        self._name = str(name).strip()\n",
    "\n",
    "        if not isinstance(offset_hours, numbers.Integral):\n",
    "            raise ValueError(\"Hours offset must be integer.\")\n",
    "        \n",
    "        if not isinstance(offset_minutes, numbers.Integral):\n",
    "            raise ValueError(\"Minutes offset must be integer.\")\n",
    "        \n",
    "        if offset_minutes >59 or offset_minutes <-59:\n",
    "            raise ValueError(\"Minutes offset must be in between (-59; 59).\")\n",
    "\n",
    "        if offset_minutes >59 or offset_minutes <-59:\n",
    "            raise ValueError(\"Minutes offset must be in between (-59; 59).\")\n",
    "\n",
    "\n",
    "        offset = timedelta(hours = offset_hours, minutes = offset_minutes)\n",
    "        if offset < timedelta(hours=-12, minutes = 0) or offset > timedelta(hours=14, minutes = 0):\n",
    "            raise ValueError(\"Offset must be in between (-12:00; +14:00).\")\n",
    "\n",
    "        self._offset_hours = offset_hours\n",
    "        self._offset_minutes = offset_minutes\n",
    "        self._offset = offset\n",
    "\n",
    "\n",
    "    @property\n",
    "    def offset(self):\n",
    "        return self._offset\n",
    "\n",
    "    @property\n",
    "    def name(self):\n",
    "        return self._name\n",
    "\n",
    "    def __eq__(self, other):\n",
    "        return (isinstance(other, TimeZone) and\n",
    "        self.name == other.name and\n",
    "        self._offset_hours == other._offset_hours and\n",
    "        self._offset_minutes == other._offset_minutes)\n",
    "\n",
    "    def __repr__(self):\n",
    "        return (f\"TimeZone(name='{self.name}', \"\n",
    "            f\"offset_hours={self._offset_hours}, \"\n",
    "            f\"offset_minutes={self._offset_minutes})\")\n",
    "\n",
    "\n",
    "class Account:\n",
    "    transaction_counter = itertools.count(100) # no def func needed\n",
    "    interest_rate = 0.5\n",
    "\n",
    "    def __init__(self, account_number, first_name, last_name,  initial_balance = 0, timezone=None):\n",
    "        self._account_number = account_number\n",
    "        self.first_name = first_name\n",
    "        self.last_name = last_name\n",
    "        \n",
    "        if timezone is None:\n",
    "            timezone = TimeZone(\"UTC\", 0, 0)\n",
    "        self.timezone = timezone\n",
    "    \n",
    "        self._balance = float(initial_balance)\n",
    "\n",
    "    @property\n",
    "    def account_number(self):\n",
    "        return self._account_number\n",
    "    \n",
    "    @property\n",
    "    def first_name(self):\n",
    "        return self._first_name\n",
    "\n",
    "    @property\n",
    "    def last_name(self):\n",
    "        return self._last_name\n",
    "\n",
    "\n",
    "    @first_name.setter\n",
    "    def first_name(self, value):\n",
    "        self._first_name = Account.validate_name(value, \"First name\")\n",
    "\n",
    "    \n",
    "    @last_name.setter\n",
    "    def last_name(self, value):\n",
    "        self._last_name = Account.validate_name(value, \"Last name\")\n",
    "\n",
    "\n",
    "    @property\n",
    "    def balance(self):\n",
    "        return self._balance\n",
    "\n",
    "\n",
    "    @property\n",
    "    def timezone(self):\n",
    "        return self._timezone\n",
    "\n",
    "    @timezone.setter\n",
    "    def timezone(self, value):\n",
    "        if not isinstance(value, TimeZone):\n",
    "            raise ValueError(\"Time zone must be valid Timezone object.\")\n",
    "        self._timezone = value\n",
    "\n",
    "\n",
    "    @staticmethod\n",
    "    def validate_name(value, field_title):\n",
    "        if value is None or len(str(value).strip()) == 0:\n",
    "            raise ValueError(f\"{field_title} cannot be empty.\")\n",
    "        return str(value).strip()"
   ]
  },
  {
   "cell_type": "code",
   "execution_count": 2,
   "metadata": {},
   "outputs": [],
   "source": [
    "a1 = Account(\"1234\", \"Py\", \"thon\")\n",
    "a2 =Account(\"123456\", \"Ja\", \"Va\")"
   ]
  },
  {
   "cell_type": "code",
   "execution_count": 4,
   "metadata": {},
   "outputs": [
    {
     "data": {
      "text/plain": [
       "(0.5, 0.5, 0.5)"
      ]
     },
     "execution_count": 4,
     "metadata": {},
     "output_type": "execute_result"
    }
   ],
   "source": [
    "a1.interest_rate, a2.interest_rate, Account.interest_rate"
   ]
  },
  {
   "cell_type": "code",
   "execution_count": 5,
   "metadata": {},
   "outputs": [],
   "source": [
    "Account.interest_rate = 10\n"
   ]
  },
  {
   "cell_type": "code",
   "execution_count": 6,
   "metadata": {},
   "outputs": [
    {
     "data": {
      "text/plain": [
       "(10, 10, 10)"
      ]
     },
     "execution_count": 6,
     "metadata": {},
     "output_type": "execute_result"
    }
   ],
   "source": [
    "a1.interest_rate, a2.interest_rate, Account.interest_rate"
   ]
  },
  {
   "cell_type": "code",
   "execution_count": 7,
   "metadata": {},
   "outputs": [],
   "source": [
    "a1.interest_rate = 100"
   ]
  },
  {
   "cell_type": "code",
   "execution_count": 8,
   "metadata": {},
   "outputs": [
    {
     "data": {
      "text/plain": [
       "(100, 10, 10)"
      ]
     },
     "execution_count": 8,
     "metadata": {},
     "output_type": "execute_result"
    }
   ],
   "source": [
    "a1.interest_rate, a2.interest_rate, Account.interest_rate"
   ]
  },
  {
   "cell_type": "code",
   "execution_count": 9,
   "metadata": {},
   "outputs": [],
   "source": [
    "from cmath import isfinite\n",
    "import numbers\n",
    "from datetime import timedelta\n",
    "import itertools\n",
    "\n",
    "class TimeZone:\n",
    "    def __init__(self, name, offset_hours, offset_minutes):\n",
    "        if name is None or len(str(name)) == 0:\n",
    "            raise ValueError(\"TimeZone name cannot be empty.\")\n",
    "\n",
    "        self._name = str(name).strip()\n",
    "\n",
    "        if not isinstance(offset_hours, numbers.Integral):\n",
    "            raise ValueError(\"Hours offset must be integer.\")\n",
    "        \n",
    "        if not isinstance(offset_minutes, numbers.Integral):\n",
    "            raise ValueError(\"Minutes offset must be integer.\")\n",
    "        \n",
    "        if offset_minutes >59 or offset_minutes <-59:\n",
    "            raise ValueError(\"Minutes offset must be in between (-59; 59).\")\n",
    "\n",
    "        if offset_minutes >59 or offset_minutes <-59:\n",
    "            raise ValueError(\"Minutes offset must be in between (-59; 59).\")\n",
    "\n",
    "\n",
    "        offset = timedelta(hours = offset_hours, minutes = offset_minutes)\n",
    "        if offset < timedelta(hours=-12, minutes = 0) or offset > timedelta(hours=14, minutes = 0):\n",
    "            raise ValueError(\"Offset must be in between (-12:00; +14:00).\")\n",
    "\n",
    "        self._offset_hours = offset_hours\n",
    "        self._offset_minutes = offset_minutes\n",
    "        self._offset = offset\n",
    "\n",
    "\n",
    "    @property\n",
    "    def offset(self):\n",
    "        return self._offset\n",
    "\n",
    "    @property\n",
    "    def name(self):\n",
    "        return self._name\n",
    "\n",
    "    def __eq__(self, other):\n",
    "        return (isinstance(other, TimeZone) and\n",
    "        self.name == other.name and\n",
    "        self._offset_hours == other._offset_hours and\n",
    "        self._offset_minutes == other._offset_minutes)\n",
    "\n",
    "    def __repr__(self):\n",
    "        return (f\"TimeZone(name='{self.name}', \"\n",
    "            f\"offset_hours={self._offset_hours}, \"\n",
    "            f\"offset_minutes={self._offset_minutes})\")\n",
    "\n",
    "\n",
    "class Account:\n",
    "    transaction_counter = itertools.count(100) # no def func needed\n",
    "    _interest_rate = 0.5\n",
    "\n",
    "    def __init__(self, account_number, first_name, last_name,  initial_balance = 0, timezone=None):\n",
    "        self._account_number = account_number\n",
    "        self.first_name = first_name\n",
    "        self.last_name = last_name\n",
    "        \n",
    "        if timezone is None:\n",
    "            timezone = TimeZone(\"UTC\", 0, 0)\n",
    "        self.timezone = timezone\n",
    "    \n",
    "        self._balance = float(initial_balance)\n",
    "\n",
    "    @property\n",
    "    def account_number(self):\n",
    "        return self._account_number\n",
    "    \n",
    "    @property\n",
    "    def first_name(self):\n",
    "        return self._first_name\n",
    "\n",
    "    @property\n",
    "    def last_name(self):\n",
    "        return self._last_name\n",
    "\n",
    "\n",
    "    @first_name.setter\n",
    "    def first_name(self, value):\n",
    "        self._first_name = Account.validate_name(value, \"First name\")\n",
    "\n",
    "    \n",
    "    @last_name.setter\n",
    "    def last_name(self, value):\n",
    "        self._last_name = Account.validate_name(value, \"Last name\")\n",
    "\n",
    "\n",
    "    @property\n",
    "    def balance(self):\n",
    "        return self._balance\n",
    "\n",
    "\n",
    "    @property\n",
    "    def timezone(self):\n",
    "        return self._timezone\n",
    "\n",
    "    @timezone.setter\n",
    "    def timezone(self, value):\n",
    "        if not isinstance(value, TimeZone):\n",
    "            raise ValueError(\"Time zone must be valid Timezone object.\")\n",
    "        self._timezone = value\n",
    "\n",
    "\n",
    "    @classmethod\n",
    "    def get_interest_rate(cls):\n",
    "        return cls._interest_rate\n",
    "\n",
    "    @classmethod\n",
    "    def set_interest_rate(cls, value):\n",
    "        if not isinstance(value, numbers.Real):\n",
    "            raise ValueError(\"Interest rate must be real number.\")\n",
    "        if value < 0:\n",
    "            ValueError(\"Interest rate cannot be negative.\")\n",
    "        cls._interest_rate = value\n",
    "\n",
    "\n",
    "    @staticmethod\n",
    "    def validate_name(value, field_title):\n",
    "        if value is None or len(str(value).strip()) == 0:\n",
    "            raise ValueError(f\"{field_title} cannot be empty.\")\n",
    "        return str(value).strip()"
   ]
  },
  {
   "cell_type": "code",
   "execution_count": 10,
   "metadata": {},
   "outputs": [
    {
     "data": {
      "text/plain": [
       "0.5"
      ]
     },
     "execution_count": 10,
     "metadata": {},
     "output_type": "execute_result"
    }
   ],
   "source": [
    "Account.get_interest_rate()"
   ]
  },
  {
   "cell_type": "code",
   "execution_count": 11,
   "metadata": {},
   "outputs": [],
   "source": [
    "Account.set_interest_rate(10)"
   ]
  },
  {
   "cell_type": "code",
   "execution_count": 12,
   "metadata": {},
   "outputs": [
    {
     "data": {
      "text/plain": [
       "10"
      ]
     },
     "execution_count": 12,
     "metadata": {},
     "output_type": "execute_result"
    }
   ],
   "source": [
    "Account.get_interest_rate()"
   ]
  },
  {
   "cell_type": "code",
   "execution_count": 13,
   "metadata": {},
   "outputs": [
    {
     "ename": "ValueError",
     "evalue": "Interest rate must be real number.",
     "output_type": "error",
     "traceback": [
      "\u001b[1;31m---------------------------------------------------------------------------\u001b[0m",
      "\u001b[1;31mValueError\u001b[0m                                Traceback (most recent call last)",
      "Cell \u001b[1;32mIn [13], line 1\u001b[0m\n\u001b[1;32m----> 1\u001b[0m \u001b[43mAccount\u001b[49m\u001b[38;5;241;43m.\u001b[39;49m\u001b[43mset_interest_rate\u001b[49m\u001b[43m(\u001b[49m\u001b[38;5;241;43m1\u001b[39;49m\u001b[38;5;241;43m+\u001b[39;49m\u001b[38;5;241;43m7\u001b[39;49m\u001b[43mj\u001b[49m\u001b[43m)\u001b[49m\n",
      "Cell \u001b[1;32mIn [9], line 116\u001b[0m, in \u001b[0;36mAccount.set_interest_rate\u001b[1;34m(cls, value)\u001b[0m\n\u001b[0;32m    113\u001b[0m \u001b[38;5;129m@classmethod\u001b[39m\n\u001b[0;32m    114\u001b[0m \u001b[38;5;28;01mdef\u001b[39;00m \u001b[38;5;21mset_interest_rate\u001b[39m(\u001b[38;5;28mcls\u001b[39m, value):\n\u001b[0;32m    115\u001b[0m     \u001b[38;5;28;01mif\u001b[39;00m \u001b[38;5;129;01mnot\u001b[39;00m \u001b[38;5;28misinstance\u001b[39m(value, numbers\u001b[38;5;241m.\u001b[39mReal):\n\u001b[1;32m--> 116\u001b[0m         \u001b[38;5;28;01mraise\u001b[39;00m \u001b[38;5;167;01mValueError\u001b[39;00m(\u001b[38;5;124m\"\u001b[39m\u001b[38;5;124mInterest rate must be real number.\u001b[39m\u001b[38;5;124m\"\u001b[39m)\n\u001b[0;32m    117\u001b[0m     \u001b[38;5;28;01mif\u001b[39;00m value \u001b[38;5;241m<\u001b[39m \u001b[38;5;241m0\u001b[39m:\n\u001b[0;32m    118\u001b[0m         \u001b[38;5;167;01mValueError\u001b[39;00m(\u001b[38;5;124m\"\u001b[39m\u001b[38;5;124mInterest rate cannot be negative.\u001b[39m\u001b[38;5;124m\"\u001b[39m)\n",
      "\u001b[1;31mValueError\u001b[0m: Interest rate must be real number."
     ]
    }
   ],
   "source": [
    "Account.set_interest_rate(1+7j)"
   ]
  },
  {
   "cell_type": "code",
   "execution_count": null,
   "metadata": {},
   "outputs": [],
   "source": []
  }
 ],
 "metadata": {
  "kernelspec": {
   "display_name": "Python 3.10.5 64-bit",
   "language": "python",
   "name": "python3"
  },
  "language_info": {
   "codemirror_mode": {
    "name": "ipython",
    "version": 3
   },
   "file_extension": ".py",
   "mimetype": "text/x-python",
   "name": "python",
   "nbconvert_exporter": "python",
   "pygments_lexer": "ipython3",
   "version": "3.10.5"
  },
  "orig_nbformat": 4,
  "vscode": {
   "interpreter": {
    "hash": "e7d4d1fdefab968d87dae697830712be305784682ed311731942beb8000e292d"
   }
  }
 },
 "nbformat": 4,
 "nbformat_minor": 2
}
