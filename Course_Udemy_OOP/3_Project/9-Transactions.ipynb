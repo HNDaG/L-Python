{
 "cells": [
  {
   "cell_type": "code",
   "execution_count": 41,
   "metadata": {},
   "outputs": [],
   "source": [
    "from cmath import isfinite\n",
    "from faulthandler import is_enabled\n",
    "from multiprocessing.sharedctypes import Value\n",
    "import numbers\n",
    "from datetime import timedelta\n",
    "import itertools\n",
    "from datetime import datetime\n",
    "from unicodedata import name\n",
    "\n",
    "class TimeZone:\n",
    "    def __init__(self, name, offset_hours, offset_minutes):\n",
    "        if name is None or len(str(name)) == 0:\n",
    "            raise ValueError(\"TimeZone name cannot be empty.\")\n",
    "\n",
    "        self._name = str(name).strip()\n",
    "\n",
    "        if not isinstance(offset_hours, numbers.Integral):\n",
    "            raise ValueError(\"Hours offset must be integer.\")\n",
    "        \n",
    "        if not isinstance(offset_minutes, numbers.Integral):\n",
    "            raise ValueError(\"Minutes offset must be integer.\")\n",
    "        \n",
    "        if offset_minutes >59 or offset_minutes <-59:\n",
    "            raise ValueError(\"Minutes offset must be in between (-59; 59).\")\n",
    "\n",
    "        if offset_minutes >59 or offset_minutes <-59:\n",
    "            raise ValueError(\"Minutes offset must be in between (-59; 59).\")\n",
    "\n",
    "\n",
    "        offset = timedelta(hours = offset_hours, minutes = offset_minutes)\n",
    "        if offset < timedelta(hours=-12, minutes = 0) or offset > timedelta(hours=14, minutes = 0):\n",
    "            raise ValueError(\"Offset must be in between (-12:00; +14:00).\")\n",
    "\n",
    "        self._offset_hours = offset_hours\n",
    "        self._offset_minutes = offset_minutes\n",
    "        self._offset = offset\n",
    "\n",
    "\n",
    "    @property\n",
    "    def offset(self):\n",
    "        return self._offset\n",
    "\n",
    "    @property\n",
    "    def name(self):\n",
    "        return self._name\n",
    "\n",
    "    def __eq__(self, other):\n",
    "        return (isinstance(other, TimeZone) and\n",
    "        self.name == other.name and\n",
    "        self._offset_hours == other._offset_hours and\n",
    "        self._offset_minutes == other._offset_minutes)\n",
    "\n",
    "    def __repr__(self):\n",
    "        return (f\"TimeZone(name='{self.name}', \"\n",
    "            f\"offset_hours={self._offset_hours}, \"\n",
    "            f\"offset_minutes={self._offset_minutes})\")\n",
    "\n",
    "\n",
    "class Account:\n",
    "    transaction_counter = itertools.count(100)\n",
    "    _interest_rate = 0.5  # percentage\n",
    "    \n",
    "    _transaction_codes = {\n",
    "        'deposit': 'D',\n",
    "        'withdraw': 'W',\n",
    "        'interest': 'I',\n",
    "        'rejected': 'X'\n",
    "    }\n",
    "    \n",
    "    def __init__(self, account_number, first_name, last_name, timezone=None, initial_balance=0):\n",
    "        self._account_number = account_number\n",
    "        self.first_name = first_name\n",
    "        self.last_name = last_name\n",
    "        \n",
    "        if timezone is None:\n",
    "            timezone = TimeZone('UTC', 0, 0)\n",
    "        self.timezone = timezone\n",
    "        \n",
    "        self._balance = Account.validate_real_number(initial_balance, min_value=0)\n",
    "        \n",
    "    @property\n",
    "    def account_number(self):\n",
    "        return self._account_number\n",
    "    \n",
    "    @property \n",
    "    def first_name(self):\n",
    "        return self._first_name\n",
    "    \n",
    "    @first_name.setter\n",
    "    def first_name(self, value):\n",
    "        self.validate_and_set_name('_first_name', value, 'First Name')\n",
    "        \n",
    "    @property\n",
    "    def last_name(self):\n",
    "        return self._last_name\n",
    "    \n",
    "    @last_name.setter\n",
    "    def last_name(self, value):\n",
    "        self.validate_and_set_name('_last_name', value, 'Last Name')\n",
    "        \n",
    "    @property\n",
    "    def full_name(self):\n",
    "        return f'{self.first_name} {self.last_name}'\n",
    "        \n",
    "    @property\n",
    "    def timezone(self):\n",
    "        return self._timezone\n",
    "    \n",
    "    @property\n",
    "    def balance(self):\n",
    "        return self._balance\n",
    "    \n",
    "    @timezone.setter\n",
    "    def timezone(self, value):\n",
    "        if not isinstance(value, TimeZone):\n",
    "            raise ValueError('Time zone must be a valid TimeZone object.')\n",
    "        self._timezone = value\n",
    "          \n",
    "    @classmethod\n",
    "    def get_interest_rate(cls):\n",
    "        return cls._interest_rate\n",
    "    \n",
    "    @classmethod\n",
    "    def set_interest_rate(cls, value):\n",
    "        if not isinstance(value, numbers.Real):\n",
    "            raise ValueError('Interest rate must be a real number')\n",
    "        if value < 0:\n",
    "            raise ValueError('Interest rate cannot be negative.')\n",
    "        cls._interest_rate = value\n",
    "        \n",
    "    def validate_and_set_name(self, property_name, value, field_title):\n",
    "        if value is None or len(str(value).strip()) == 0:\n",
    "            raise ValueError(f'{field_title} cannot be empty.')\n",
    "        setattr(self, property_name, value)\n",
    "        \n",
    "    @staticmethod\n",
    "    def validate_real_number(value, min_value=None):\n",
    "        if not isinstance(value, numbers.Real):\n",
    "            raise ValueError('Value must be a real number.')\n",
    "            \n",
    "        if min_value is not None and value < min_value:\n",
    "            raise ValueError(f'Value must be at least {min_value}')\n",
    "            \n",
    "        return value\n",
    "    \n",
    "    def generate_confirmation_code(self, transaction_code):\n",
    "        dt_str = datetime.utcnow().strftime('%Y%m%d%H%M%S')\n",
    "        return f'{transaction_code}-{self.account_number}-{dt_str}-{next(Account.transaction_counter)}'\n",
    "    \n",
    "    @staticmethod\n",
    "    def parse_confirmation_code(confirmation_code, preferred_time_zone=None):\n",
    "        # dummy-A100-20190325224918-101\n",
    "        parts = confirmation_code.split('-')\n",
    "        if len(parts) != 4:\n",
    "            raise ValueError('Invalid confirmation code')\n",
    "        \n",
    "        transaction_code, account_number, raw_dt_utc, transaction_id = parts\n",
    "        \n",
    "        try:\n",
    "            dt_utc = datetime.strptime(raw_dt_utc, '%Y%m%d%H%M%S')\n",
    "        except ValueError as ex:\n",
    "            raise ValueError('Invalid transaction datetime') from ex\n",
    "          \n",
    "        if preferred_time_zone is None:\n",
    "            preferred_time_zone = TimeZone('UTC', 0, 0)\n",
    "            \n",
    "        if not isinstance(preferred_time_zone, TimeZone):\n",
    "            raise ValueError('Invalid TimeZone specified.')\n",
    "            \n",
    "        dt_preferred = dt_utc + preferred_time_zone.offset\n",
    "        dt_preferred_str = f\"{dt_preferred.strftime('%Y-%m-%d %H:%M:%S')} ({preferred_time_zone.name})\"\n",
    "        \n",
    "        return Confirmation(account_number, transaction_code, transaction_id, dt_utc.isoformat(), dt_preferred_str)\n",
    "    \n",
    "    def deposit(self, value):\n",
    "        value = Account.validate_real_number(value, min_value=0.01)\n",
    "       \n",
    "        transaction_code = Account._transaction_codes['deposit']\n",
    "        \n",
    "        conf_code = self.generate_confirmation_code(transaction_code)\n",
    "        \n",
    "        self._balance += value\n",
    "        return conf_code\n",
    "    \n",
    "    def withdraw(self, value):\n",
    "        value = Account.validate_real_number(value, min_value=0.01)\n",
    "        accepted = False\n",
    "        if self.balance - value < 0:\n",
    "            transaction_code = Account._transaction_codes['rejected']\n",
    "        else:\n",
    "            transaction_code = Account._transaction_codes['withdraw']\n",
    "            accepted = True\n",
    "            \n",
    "        conf_code = self.generate_confirmation_code(transaction_code)\n",
    "        \n",
    "        if accepted:\n",
    "            self._balance -= value\n",
    "            \n",
    "        return conf_code\n",
    "    \n",
    "    def pay_interest(self):\n",
    "        interest = self.balance * Account.get_interest_rate() / 100\n",
    "        conf_code = self.generate_confirmation_code(self._transaction_codes['interest'])\n",
    "        self._balance += interest\n",
    "        return conf_code\n"
   ]
  },
  {
   "cell_type": "code",
   "execution_count": 42,
   "metadata": {},
   "outputs": [],
   "source": [
    "a =Account('A100', 'Joe', 'Baiden', initial_balance=100)"
   ]
  },
  {
   "cell_type": "code",
   "execution_count": 43,
   "metadata": {},
   "outputs": [
    {
     "data": {
      "text/plain": [
       "100"
      ]
     },
     "execution_count": 43,
     "metadata": {},
     "output_type": "execute_result"
    }
   ],
   "source": [
    "a.balance\n"
   ]
  },
  {
   "cell_type": "code",
   "execution_count": 44,
   "metadata": {},
   "outputs": [
    {
     "name": "stdout",
     "output_type": "stream",
     "text": [
      "Value must be at least 0.01\n"
     ]
    }
   ],
   "source": [
    "try:\n",
    "    a.deposit(-50)\n",
    "except ValueError as ex:\n",
    "    print(ex)"
   ]
  },
  {
   "cell_type": "code",
   "execution_count": 45,
   "metadata": {},
   "outputs": [
    {
     "data": {
      "text/plain": [
       "'D-A100-20220917194909-100'"
      ]
     },
     "execution_count": 45,
     "metadata": {},
     "output_type": "execute_result"
    }
   ],
   "source": [
    "a.deposit(200)"
   ]
  },
  {
   "cell_type": "code",
   "execution_count": 46,
   "metadata": {},
   "outputs": [
    {
     "data": {
      "text/plain": [
       "300"
      ]
     },
     "execution_count": 46,
     "metadata": {},
     "output_type": "execute_result"
    }
   ],
   "source": [
    "a.balance"
   ]
  },
  {
   "cell_type": "code",
   "execution_count": 47,
   "metadata": {},
   "outputs": [
    {
     "data": {
      "text/plain": [
       "'W-A100-20220917194911-101'"
      ]
     },
     "execution_count": 47,
     "metadata": {},
     "output_type": "execute_result"
    }
   ],
   "source": [
    "a.withdraw(299)"
   ]
  },
  {
   "cell_type": "code",
   "execution_count": 48,
   "metadata": {},
   "outputs": [
    {
     "data": {
      "text/plain": [
       "1"
      ]
     },
     "execution_count": 48,
     "metadata": {},
     "output_type": "execute_result"
    }
   ],
   "source": [
    "a.balance\n"
   ]
  },
  {
   "cell_type": "code",
   "execution_count": 49,
   "metadata": {},
   "outputs": [
    {
     "ename": "ValueError",
     "evalue": "Value must be at least 0.01",
     "output_type": "error",
     "traceback": [
      "\u001b[1;31m---------------------------------------------------------------------------\u001b[0m",
      "\u001b[1;31mValueError\u001b[0m                                Traceback (most recent call last)",
      "Cell \u001b[1;32mIn [49], line 1\u001b[0m\n\u001b[1;32m----> 1\u001b[0m \u001b[43ma\u001b[49m\u001b[38;5;241;43m.\u001b[39;49m\u001b[43mwithdraw\u001b[49m\u001b[43m(\u001b[49m\u001b[38;5;241;43m-\u001b[39;49m\u001b[38;5;241;43m12\u001b[39;49m\u001b[43m)\u001b[49m\n",
      "Cell \u001b[1;32mIn [41], line 186\u001b[0m, in \u001b[0;36mAccount.withdraw\u001b[1;34m(self, value)\u001b[0m\n\u001b[0;32m    185\u001b[0m \u001b[38;5;28;01mdef\u001b[39;00m \u001b[38;5;21mwithdraw\u001b[39m(\u001b[38;5;28mself\u001b[39m, value):\n\u001b[1;32m--> 186\u001b[0m     value \u001b[38;5;241m=\u001b[39m \u001b[43mAccount\u001b[49m\u001b[38;5;241;43m.\u001b[39;49m\u001b[43mvalidate_real_number\u001b[49m\u001b[43m(\u001b[49m\u001b[43mvalue\u001b[49m\u001b[43m,\u001b[49m\u001b[43m \u001b[49m\u001b[43mmin_value\u001b[49m\u001b[38;5;241;43m=\u001b[39;49m\u001b[38;5;241;43m0.01\u001b[39;49m\u001b[43m)\u001b[49m\n\u001b[0;32m    187\u001b[0m     accepted \u001b[38;5;241m=\u001b[39m \u001b[38;5;28;01mFalse\u001b[39;00m\n\u001b[0;32m    188\u001b[0m     \u001b[38;5;28;01mif\u001b[39;00m \u001b[38;5;28mself\u001b[39m\u001b[38;5;241m.\u001b[39mbalance \u001b[38;5;241m-\u001b[39m value \u001b[38;5;241m<\u001b[39m \u001b[38;5;241m0\u001b[39m:\n",
      "Cell \u001b[1;32mIn [41], line 142\u001b[0m, in \u001b[0;36mAccount.validate_real_number\u001b[1;34m(value, min_value)\u001b[0m\n\u001b[0;32m    139\u001b[0m     \u001b[38;5;28;01mraise\u001b[39;00m \u001b[38;5;167;01mValueError\u001b[39;00m(\u001b[38;5;124m'\u001b[39m\u001b[38;5;124mValue must be a real number.\u001b[39m\u001b[38;5;124m'\u001b[39m)\n\u001b[0;32m    141\u001b[0m \u001b[38;5;28;01mif\u001b[39;00m min_value \u001b[38;5;129;01mis\u001b[39;00m \u001b[38;5;129;01mnot\u001b[39;00m \u001b[38;5;28;01mNone\u001b[39;00m \u001b[38;5;129;01mand\u001b[39;00m value \u001b[38;5;241m<\u001b[39m min_value:\n\u001b[1;32m--> 142\u001b[0m     \u001b[38;5;28;01mraise\u001b[39;00m \u001b[38;5;167;01mValueError\u001b[39;00m(\u001b[38;5;124mf\u001b[39m\u001b[38;5;124m'\u001b[39m\u001b[38;5;124mValue must be at least \u001b[39m\u001b[38;5;132;01m{\u001b[39;00mmin_value\u001b[38;5;132;01m}\u001b[39;00m\u001b[38;5;124m'\u001b[39m)\n\u001b[0;32m    144\u001b[0m \u001b[38;5;28;01mreturn\u001b[39;00m value\n",
      "\u001b[1;31mValueError\u001b[0m: Value must be at least 0.01"
     ]
    }
   ],
   "source": [
    "a.withdraw(-12)"
   ]
  },
  {
   "cell_type": "code",
   "execution_count": 50,
   "metadata": {},
   "outputs": [],
   "source": [
    "import unittest"
   ]
  },
  {
   "cell_type": "code",
   "execution_count": 51,
   "metadata": {},
   "outputs": [],
   "source": [
    "def run_tests(test_class):\n",
    "    suite = unittest.TestLoader().loadTestsFromTestCase(test_class)\n",
    "    runner = unittest.TextTestRunner(verbosity=2)\n",
    "    runner.run(suite)\n",
    "    "
   ]
  },
  {
   "cell_type": "code",
   "execution_count": 52,
   "metadata": {},
   "outputs": [],
   "source": [
    "class TestAccount(unittest.TestCase):\n",
    "    def setUp(self):\n",
    "        print('Running setup...')\n",
    "        self.account_number = 'A100'\n",
    "        \n",
    "    def tearDown(self):\n",
    "        print('Running tear down...')\n",
    "        \n",
    "    def test_1(self):\n",
    "        self.account_number = 'A200'\n",
    "        print(\"Running test1...\")\n",
    "        self.assertTrue('A200', self.account_number)\n",
    "        \n",
    "    def test_2(self):\n",
    "        print(\"Running test2...\")\n",
    "        self.assertTrue('A100', self.account_number)\n",
    "        "
   ]
  },
  {
   "cell_type": "code",
   "execution_count": 53,
   "metadata": {},
   "outputs": [
    {
     "name": "stderr",
     "output_type": "stream",
     "text": [
      "test_1 (__main__.TestAccount) ... ok\n",
      "test_2 (__main__.TestAccount) ... ok\n",
      "\n",
      "----------------------------------------------------------------------\n",
      "Ran 2 tests in 0.003s\n",
      "\n",
      "OK\n"
     ]
    },
    {
     "name": "stdout",
     "output_type": "stream",
     "text": [
      "Running setup...\n",
      "Running test1...\n",
      "Running tear down...\n",
      "Running setup...\n",
      "Running test2...\n",
      "Running tear down...\n"
     ]
    }
   ],
   "source": [
    "run_tests(TestAccount)"
   ]
  },
  {
   "cell_type": "code",
   "execution_count": 54,
   "metadata": {},
   "outputs": [],
   "source": [
    "class TestAccount(unittest.TestCase):\n",
    "   \n",
    "    def test_create_timezone(self):\n",
    "        tz = TimeZone('ABC', -1, -30)\n",
    "        self.assertEqual('ABC', tz.name)\n",
    "        self.assertEqual(timedelta(hours=-1, minutes=-30), tz.offset)\n",
    "        \n",
    "    def test_timezones_equal(self):\n",
    "        tz1 = TimeZone('ABC', -1, -30)\n",
    "        tz2 = TimeZone('ABC', -1, -30)\n",
    "        self.assertEqual(tz1, tz2)\n",
    "        \n",
    "    def test_timezones_not_equal(self):\n",
    "        tz = TimeZone('ABC', -1, -30)\n",
    "        \n",
    "        test_timezones = (\n",
    "            TimeZone('DEF', -1, -30),\n",
    "            TimeZone('ABC', -1, 0),\n",
    "            TimeZone('ABC', 1, -30)\n",
    "        )\n",
    "        for test_tz in test_timezones:\n",
    "            self.assertNotEqual(tz, test_tz)"
   ]
  },
  {
   "cell_type": "code",
   "execution_count": 55,
   "metadata": {},
   "outputs": [
    {
     "name": "stderr",
     "output_type": "stream",
     "text": [
      "test_create_timezone (__main__.TestAccount) ... ok\n",
      "test_timezones_equal (__main__.TestAccount) ... ok\n",
      "test_timezones_not_equal (__main__.TestAccount) ... ok\n",
      "\n",
      "----------------------------------------------------------------------\n",
      "Ran 3 tests in 0.005s\n",
      "\n",
      "OK\n"
     ]
    }
   ],
   "source": [
    "run_tests(TestAccount)"
   ]
  },
  {
   "cell_type": "code",
   "execution_count": 56,
   "metadata": {},
   "outputs": [],
   "source": [
    "class TestAccount(unittest.TestCase):\n",
    "    \n",
    "    def test_create_timezone(self):\n",
    "        tz = TimeZone('ABC', -1, -30)\n",
    "        self.assertEqual('ABC', tz.name)\n",
    "        self.assertEqual(timedelta(hours=-1, minutes=-30), tz.offset)\n",
    "        \n",
    "    def test_timezones_equal(self):\n",
    "        tz1 = TimeZone('ABC', -1, -30)\n",
    "        tz2 = TimeZone('ABC', -1, -30)\n",
    "        self.assertEqual(tz1, tz2)\n",
    "        \n",
    "    def test_timezones_not_equal(self):\n",
    "        tz = TimeZone('ABC', -1, -30)\n",
    "        \n",
    "        test_timezones = (\n",
    "            TimeZone('DEF', -1, -30),\n",
    "            TimeZone('ABC', -1, 0),\n",
    "            TimeZone('ABC', 1, -30)\n",
    "        )\n",
    "        for i, test_tz in enumerate(test_timezones):\n",
    "            with self.subTest(test_number=i):\n",
    "                self.assertNotEqual(tz, test_tz)"
   ]
  },
  {
   "cell_type": "code",
   "execution_count": 57,
   "metadata": {},
   "outputs": [
    {
     "name": "stderr",
     "output_type": "stream",
     "text": [
      "test_create_timezone (__main__.TestAccount) ... ok\n",
      "test_timezones_equal (__main__.TestAccount) ... ok\n",
      "test_timezones_not_equal (__main__.TestAccount) ... ok\n",
      "\n",
      "----------------------------------------------------------------------\n",
      "Ran 3 tests in 0.006s\n",
      "\n",
      "OK\n"
     ]
    }
   ],
   "source": [
    "run_tests(TestAccount)"
   ]
  },
  {
   "cell_type": "code",
   "execution_count": 58,
   "metadata": {},
   "outputs": [],
   "source": [
    "class TestAccount(unittest.TestCase):\n",
    "    \n",
    "    def test_create_timezone(self):\n",
    "        tz = TimeZone('ABC', -1, -30)\n",
    "        self.assertEqual('ABC', tz.name)\n",
    "        self.assertEqual(timedelta(hours=-1, minutes=-30), tz.offset)\n",
    "        \n",
    "    def test_timezones_equal(self):\n",
    "        tz1 = TimeZone('ABC', -1, -30)\n",
    "        tz2 = TimeZone('ABC', -1, -30)\n",
    "        self.assertEqual(tz1, tz2)\n",
    "        \n",
    "    def test_timezones_not_equal(self):\n",
    "        tz = TimeZone('ABC', -1, -30)\n",
    "        \n",
    "        test_timezones = (\n",
    "            TimeZone('DEF', -1, -30),\n",
    "            TimeZone('ABC', -1, 0),\n",
    "            TimeZone('ABC', 1, -30)\n",
    "        )\n",
    "        for i, test_tz in enumerate(test_timezones):\n",
    "            with self.subTest(test_number=i):\n",
    "                self.assertNotEqual(tz, test_tz)\n",
    "                \n",
    "    def test_create_account(self):\n",
    "        account_number = 'A100'\n",
    "        first_name = 'FIRST'\n",
    "        last_name = 'LAST'\n",
    "        tz = TimeZone('TZ', 1, 30)\n",
    "        balance = 100.00\n",
    "        \n",
    "        a = Account(account_number, first_name, last_name, tz, balance)\n",
    "        self.assertEqual(account_number, a.account_number)\n",
    "        self.assertEqual(first_name, a.first_name)\n",
    "        self.assertEqual(last_name, a.last_name)\n",
    "        self.assertEqual(first_name + ' ' + last_name, a.full_name)\n",
    "        self.assertEqual(tz, a.timezone)\n",
    "        self.assertEqual(balance, a.balance)\n",
    "\n",
    "    def test_create_account_blank_first_name(self):\n",
    "        account_number = 'A100'\n",
    "        first_name = ''\n",
    "        last_name = 'LAST'\n",
    "        tz = TimeZone('TZ', 1, 30)\n",
    "        balance = 100.00\n",
    "        \n",
    "        with self.assertRaises(ValueError):\n",
    "            a = Account(account_number, first_name, last_name, tz, balance)"
   ]
  },
  {
   "cell_type": "code",
   "execution_count": 59,
   "metadata": {},
   "outputs": [
    {
     "name": "stderr",
     "output_type": "stream",
     "text": [
      "test_create_account (__main__.TestAccount) ... ok\n",
      "test_create_account_blank_first_name (__main__.TestAccount) ... ok\n",
      "test_create_timezone (__main__.TestAccount) ... ok\n",
      "test_timezones_equal (__main__.TestAccount) ... ok\n",
      "test_timezones_not_equal (__main__.TestAccount) ... ok\n",
      "\n",
      "----------------------------------------------------------------------\n",
      "Ran 5 tests in 0.009s\n",
      "\n",
      "OK\n"
     ]
    }
   ],
   "source": [
    "run_tests(TestAccount)"
   ]
  },
  {
   "cell_type": "code",
   "execution_count": 68,
   "metadata": {},
   "outputs": [],
   "source": [
    "class TestAccount(unittest.TestCase):\n",
    "    \n",
    "    def test_create_timezone(self):\n",
    "        tz = TimeZone('ABC', -1, -30)\n",
    "        self.assertEqual('ABC', tz.name)\n",
    "        self.assertEqual(timedelta(hours=-1, minutes=-30), tz.offset)\n",
    "        \n",
    "    def test_timezones_equal(self):\n",
    "        tz1 = TimeZone('ABC', -1, -30)\n",
    "        tz2 = TimeZone('ABC', -1, -30)\n",
    "        self.assertEqual(tz1, tz2)\n",
    "        \n",
    "    def test_timezones_not_equal(self):\n",
    "        tz = TimeZone('ABC', -1, -30)\n",
    "        \n",
    "        test_timezones = (\n",
    "            TimeZone('DEF', -1, -30),\n",
    "            TimeZone('ABC', -1, 0),\n",
    "            TimeZone('ABC', 1, -30)\n",
    "        )\n",
    "        for i, test_tz in enumerate(test_timezones):\n",
    "            with self.subTest(test_number=i):\n",
    "                self.assertNotEqual(tz, test_tz)\n",
    "                \n",
    "    def test_create_account(self):\n",
    "        account_number = 'A100'\n",
    "        first_name = 'FIRST'\n",
    "        last_name = 'LAST'\n",
    "        tz = TimeZone('TZ', 1, 30)\n",
    "        balance = 100.00\n",
    "        \n",
    "        a = Account(account_number, first_name, last_name, tz, balance)\n",
    "        self.assertEqual(account_number, a.account_number)\n",
    "        self.assertEqual(first_name, a.first_name)\n",
    "        self.assertEqual(last_name, a.last_name)\n",
    "        self.assertEqual(first_name + ' ' + last_name, a.full_name)\n",
    "        self.assertEqual(tz, a.timezone)\n",
    "        self.assertEqual(balance, a.balance)\n",
    "\n",
    "    def test_create_account_blank_first_name(self):\n",
    "        account_number = 'A100'\n",
    "        first_name = ''\n",
    "        last_name = 'LAST'\n",
    "        tz = TimeZone('TZ', 1, 30)\n",
    "        balance = 100.00\n",
    "        \n",
    "        with self.assertRaises(ValueError):\n",
    "            a = Account(account_number, first_name, last_name, tz, balance)\n",
    "\n",
    "    def test_create_account_negative_balance(self):\n",
    "        account_number = 'A100'\n",
    "        first_name = 'FIRST'\n",
    "        last_name = 'LAST'\n",
    "        tz = TimeZone('TZ', 1, 30)\n",
    "        balance = -100.00\n",
    "\n",
    "        with self.assertRaises(ValueError):\n",
    "            a = Account(account_number, first_name, last_name, tz, balance)\n",
    "\n",
    "    def test_account_withdraw_ok(self):\n",
    "        account_number = 'A100'\n",
    "        first_name = 'FIRST'\n",
    "        last_name = 'LAST'\n",
    "        tz = TimeZone('TZ', 1, 30)\n",
    "        balance = 100.00\n",
    "\n",
    "        withdraw_balance = 100\n",
    "\n",
    "        a = Account(account_number, first_name, last_name, tz, balance)\n",
    "        conf_code = a.withdraw(withdraw_balance)\n",
    "        self.assertTrue(conf_code.startswith('W-'))\n",
    "        self.assertEqual(a.balance, balance - withdraw_balance)\n",
    "\n",
    "\n",
    "    def test_account_withdraw_overdraw(self):\n",
    "        account_number = 'A100'\n",
    "        first_name = 'FIRST'\n",
    "        last_name = 'LAST'\n",
    "        tz = TimeZone('TZ', 1, 30)\n",
    "        balance = 100.00\n",
    "\n",
    "        withdraw_balance = 200\n",
    "\n",
    "        a = Account(account_number, first_name, last_name, tz, balance)\n",
    "        conf_code = a.withdraw(withdraw_balance)\n",
    "        self.assertTrue(conf_code.startswith('X-'))\n",
    "        self.assertEqual(a.balance, balance)\n",
    "\n",
    "\n",
    "    \n"
   ]
  },
  {
   "cell_type": "code",
   "execution_count": 69,
   "metadata": {},
   "outputs": [
    {
     "name": "stderr",
     "output_type": "stream",
     "text": [
      "test_account_withdraw_ok (__main__.TestAccount) ... ok\n",
      "test_account_withdraw_overdraw (__main__.TestAccount) ... ok\n",
      "test_create_account (__main__.TestAccount) ... ok\n",
      "test_create_account_blank_first_name (__main__.TestAccount) ... ok\n",
      "test_create_account_negative_balance (__main__.TestAccount) ... ok\n",
      "test_create_timezone (__main__.TestAccount) ... ok\n",
      "test_timezones_equal (__main__.TestAccount) ... ok\n",
      "test_timezones_not_equal (__main__.TestAccount) ... ok\n",
      "\n",
      "----------------------------------------------------------------------\n",
      "Ran 8 tests in 0.012s\n",
      "\n",
      "OK\n"
     ]
    }
   ],
   "source": [
    "run_tests(TestAccount)"
   ]
  },
  {
   "cell_type": "code",
   "execution_count": null,
   "metadata": {},
   "outputs": [],
   "source": []
  },
  {
   "cell_type": "code",
   "execution_count": null,
   "metadata": {},
   "outputs": [],
   "source": []
  }
 ],
 "metadata": {
  "kernelspec": {
   "display_name": "Python 3.10.5 64-bit",
   "language": "python",
   "name": "python3"
  },
  "language_info": {
   "codemirror_mode": {
    "name": "ipython",
    "version": 3
   },
   "file_extension": ".py",
   "mimetype": "text/x-python",
   "name": "python",
   "nbconvert_exporter": "python",
   "pygments_lexer": "ipython3",
   "version": "3.10.5"
  },
  "orig_nbformat": 4,
  "vscode": {
   "interpreter": {
    "hash": "e7d4d1fdefab968d87dae697830712be305784682ed311731942beb8000e292d"
   }
  }
 },
 "nbformat": 4,
 "nbformat_minor": 2
}
